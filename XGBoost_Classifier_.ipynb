{
  "nbformat": 4,
  "nbformat_minor": 0,
  "metadata": {
    "colab": {
      "name": "XGBoost Classifier .ipynb",
      "provenance": [],
      "collapsed_sections": []
    },
    "kernelspec": {
      "name": "python3",
      "display_name": "Python 3"
    },
    "language_info": {
      "name": "python"
    }
  },
  "cells": [
    {
      "cell_type": "markdown",
      "metadata": {
        "id": "GNjFIxTHJPLn"
      },
      "source": [
        "\n",
        "**In this assignment students need to predict whether a person makes over  50K per year or not from classic adult dataset using XGBoost.**\n",
        "\n",
        "\n",
        "The  description of the dataset is as follows: \n",
        "Data Set Information: \n",
        "\n",
        "Extraction was done by Barry Becker from the 1994 Census  database. A set of reasonably clean records was extracted using the  following conditions: \n",
        "\n",
        "((AAGE>16) && (AGI>100) &&  (AFNLWGT>1)&& (HRSWK>0)) \n",
        "\n",
        "Attribute Information: \n",
        "\n",
        "Listing of attributes: >50K, <=50K. \n",
        "\n",
        "**age:** continuous. \n",
        "\n",
        "**workclass:** Private, Self-emp-not-inc, Self-emp-inc, Federal-gov,  Local-gov, \n",
        "\n",
        "**State-**gov, Without-pay, Never-worked. \n",
        "\n",
        "**fnlwgt:** continuous. \n",
        "\n",
        "**education:** Bachelors, Some-college, 11th, HS-grad, Prof-school,  Assoc-acdm, \n",
        "\n",
        "Assoc-voc, 9th, 7th-8th, 12th, Masters, 1st-4th, 10th,  Doctorate, 5th-6th, \n",
        "Preschool. \n",
        "education-num: continuous.\n",
        "\n",
        "**marital-status:** Married-civ-spouse, Divorced, Never-married,  Separated, \n",
        "\n",
        "Widowed, Married-spouse-absent, Married-AF-spouse. \n",
        "\n",
        "**occupation:** Tech-support, Craft-repair, Other-service, Sales, Exec managerial, \n",
        "\n",
        "**Prof-** specialty, Handlers-cleaners, Machine-op-inspct,  Adm-clerical, \n",
        "\n",
        "Farming-fishing, Transport-moving, Priv-house-serv,  Protective-serv, \n",
        "\n",
        "Armed-Forces. \n",
        "\n",
        "**Relationship:** Wife, Own-child, Husband, Not-in-family, Other-relative,  \n",
        " \n",
        " Unmarried. \n",
        "\n",
        "**race:** White, Asian-Pac-Islander, Amer-Indian-Eskimo, Other, Black. \n",
        "\n",
        "**Sex:** Female, Male. \n",
        "\n",
        "**capital-gain:** continuous. \n",
        "\n",
        "**capital-loss:** continuous. \n",
        "\n",
        "**hours-per-week:** continuous. \n",
        "\n",
        "**Native-country:** United-States, Cambodia, England, Puerto-Rico,  Canada, \n",
        "\n",
        "Germany, Outlying-US(Guam-USVI-etc), India, Japan,  Greece, South, China, Cuba, \n",
        "\n",
        "Iran, Honduras, Philippines, Italy,  Poland, Jamaica, Vietnam, Mexico, \n",
        "\n",
        "Portugal, Ireland, France,  Dominican-Republic, Laos, Ecuador, Taiwan, Haiti, \n",
        "\n",
        "Columbia,  Hungary, Guatemala, Nicaragua, Scotland, Thailand, Yugoslavia, El \n",
        "\n",
        "Salvador, Trinadad&Tobago, Peru, Hong, Holand-Netherlands. \n"
      ]
    },
    {
      "cell_type": "markdown",
      "metadata": {
        "id": "hR_XGHuBLRVd"
      },
      "source": [
        "**Importing Important libraries**"
      ]
    },
    {
      "cell_type": "code",
      "metadata": {
        "id": "-iTxhYsSKMwf"
      },
      "source": [
        "import numpy as np\n",
        "import pandas as pd\n",
        "import matplotlib.pyplot as plt\n",
        "import sklearn\n",
        "from xgboost.sklearn import XGBClassifier"
      ],
      "execution_count": 21,
      "outputs": []
    },
    {
      "cell_type": "code",
      "metadata": {
        "id": "ktpYOgpTLZ5U"
      },
      "source": [
        "col_labels = ['age', 'workclass', 'fnlwgt', 'education', 'education_num',  'marital_status', 'occupation','relationship', 'race', 'sex', 'capital_gain',  'capital_loss', 'hours_per_week', 'native_country', 'wage_class']\n",
        "train_set = pd.read_csv('http://archive.ics.uci.edu/ml/machine-learning-databases/adult/adult.data', header = None,names=col_labels)\n",
        "test_set = pd.read_csv('http://archive.ics.uci.edu/ml/machine-learning-databases/adult/adult.test' , skiprows = 1, header = None,names=col_labels) \n"
      ],
      "execution_count": 22,
      "outputs": []
    },
    {
      "cell_type": "code",
      "metadata": {
        "colab": {
          "base_uri": "https://localhost:8080/",
          "height": 283
        },
        "id": "5uvqLVe1LaSN",
        "outputId": "7ac9ee22-2109-4194-ee4a-13acfdbf986b"
      },
      "source": [
        "train_set.head()"
      ],
      "execution_count": 23,
      "outputs": [
        {
          "output_type": "execute_result",
          "data": {
            "text/html": [
              "<div>\n",
              "<style scoped>\n",
              "    .dataframe tbody tr th:only-of-type {\n",
              "        vertical-align: middle;\n",
              "    }\n",
              "\n",
              "    .dataframe tbody tr th {\n",
              "        vertical-align: top;\n",
              "    }\n",
              "\n",
              "    .dataframe thead th {\n",
              "        text-align: right;\n",
              "    }\n",
              "</style>\n",
              "<table border=\"1\" class=\"dataframe\">\n",
              "  <thead>\n",
              "    <tr style=\"text-align: right;\">\n",
              "      <th></th>\n",
              "      <th>age</th>\n",
              "      <th>workclass</th>\n",
              "      <th>fnlwgt</th>\n",
              "      <th>education</th>\n",
              "      <th>education_num</th>\n",
              "      <th>marital_status</th>\n",
              "      <th>occupation</th>\n",
              "      <th>relationship</th>\n",
              "      <th>race</th>\n",
              "      <th>sex</th>\n",
              "      <th>capital_gain</th>\n",
              "      <th>capital_loss</th>\n",
              "      <th>hours_per_week</th>\n",
              "      <th>native_country</th>\n",
              "      <th>wage_class</th>\n",
              "    </tr>\n",
              "  </thead>\n",
              "  <tbody>\n",
              "    <tr>\n",
              "      <th>0</th>\n",
              "      <td>39</td>\n",
              "      <td>State-gov</td>\n",
              "      <td>77516</td>\n",
              "      <td>Bachelors</td>\n",
              "      <td>13</td>\n",
              "      <td>Never-married</td>\n",
              "      <td>Adm-clerical</td>\n",
              "      <td>Not-in-family</td>\n",
              "      <td>White</td>\n",
              "      <td>Male</td>\n",
              "      <td>2174</td>\n",
              "      <td>0</td>\n",
              "      <td>40</td>\n",
              "      <td>United-States</td>\n",
              "      <td>&lt;=50K</td>\n",
              "    </tr>\n",
              "    <tr>\n",
              "      <th>1</th>\n",
              "      <td>50</td>\n",
              "      <td>Self-emp-not-inc</td>\n",
              "      <td>83311</td>\n",
              "      <td>Bachelors</td>\n",
              "      <td>13</td>\n",
              "      <td>Married-civ-spouse</td>\n",
              "      <td>Exec-managerial</td>\n",
              "      <td>Husband</td>\n",
              "      <td>White</td>\n",
              "      <td>Male</td>\n",
              "      <td>0</td>\n",
              "      <td>0</td>\n",
              "      <td>13</td>\n",
              "      <td>United-States</td>\n",
              "      <td>&lt;=50K</td>\n",
              "    </tr>\n",
              "    <tr>\n",
              "      <th>2</th>\n",
              "      <td>38</td>\n",
              "      <td>Private</td>\n",
              "      <td>215646</td>\n",
              "      <td>HS-grad</td>\n",
              "      <td>9</td>\n",
              "      <td>Divorced</td>\n",
              "      <td>Handlers-cleaners</td>\n",
              "      <td>Not-in-family</td>\n",
              "      <td>White</td>\n",
              "      <td>Male</td>\n",
              "      <td>0</td>\n",
              "      <td>0</td>\n",
              "      <td>40</td>\n",
              "      <td>United-States</td>\n",
              "      <td>&lt;=50K</td>\n",
              "    </tr>\n",
              "    <tr>\n",
              "      <th>3</th>\n",
              "      <td>53</td>\n",
              "      <td>Private</td>\n",
              "      <td>234721</td>\n",
              "      <td>11th</td>\n",
              "      <td>7</td>\n",
              "      <td>Married-civ-spouse</td>\n",
              "      <td>Handlers-cleaners</td>\n",
              "      <td>Husband</td>\n",
              "      <td>Black</td>\n",
              "      <td>Male</td>\n",
              "      <td>0</td>\n",
              "      <td>0</td>\n",
              "      <td>40</td>\n",
              "      <td>United-States</td>\n",
              "      <td>&lt;=50K</td>\n",
              "    </tr>\n",
              "    <tr>\n",
              "      <th>4</th>\n",
              "      <td>28</td>\n",
              "      <td>Private</td>\n",
              "      <td>338409</td>\n",
              "      <td>Bachelors</td>\n",
              "      <td>13</td>\n",
              "      <td>Married-civ-spouse</td>\n",
              "      <td>Prof-specialty</td>\n",
              "      <td>Wife</td>\n",
              "      <td>Black</td>\n",
              "      <td>Female</td>\n",
              "      <td>0</td>\n",
              "      <td>0</td>\n",
              "      <td>40</td>\n",
              "      <td>Cuba</td>\n",
              "      <td>&lt;=50K</td>\n",
              "    </tr>\n",
              "  </tbody>\n",
              "</table>\n",
              "</div>"
            ],
            "text/plain": [
              "   age          workclass  fnlwgt  ... hours_per_week  native_country wage_class\n",
              "0   39          State-gov   77516  ...             40   United-States      <=50K\n",
              "1   50   Self-emp-not-inc   83311  ...             13   United-States      <=50K\n",
              "2   38            Private  215646  ...             40   United-States      <=50K\n",
              "3   53            Private  234721  ...             40   United-States      <=50K\n",
              "4   28            Private  338409  ...             40            Cuba      <=50K\n",
              "\n",
              "[5 rows x 15 columns]"
            ]
          },
          "metadata": {
            "tags": []
          },
          "execution_count": 23
        }
      ]
    },
    {
      "cell_type": "code",
      "metadata": {
        "colab": {
          "base_uri": "https://localhost:8080/",
          "height": 300
        },
        "id": "XMtmU7CyMcyG",
        "outputId": "c573e159-91f2-4bc7-abb2-4af189c614d1"
      },
      "source": [
        "test_set.head()"
      ],
      "execution_count": 24,
      "outputs": [
        {
          "output_type": "execute_result",
          "data": {
            "text/html": [
              "<div>\n",
              "<style scoped>\n",
              "    .dataframe tbody tr th:only-of-type {\n",
              "        vertical-align: middle;\n",
              "    }\n",
              "\n",
              "    .dataframe tbody tr th {\n",
              "        vertical-align: top;\n",
              "    }\n",
              "\n",
              "    .dataframe thead th {\n",
              "        text-align: right;\n",
              "    }\n",
              "</style>\n",
              "<table border=\"1\" class=\"dataframe\">\n",
              "  <thead>\n",
              "    <tr style=\"text-align: right;\">\n",
              "      <th></th>\n",
              "      <th>age</th>\n",
              "      <th>workclass</th>\n",
              "      <th>fnlwgt</th>\n",
              "      <th>education</th>\n",
              "      <th>education_num</th>\n",
              "      <th>marital_status</th>\n",
              "      <th>occupation</th>\n",
              "      <th>relationship</th>\n",
              "      <th>race</th>\n",
              "      <th>sex</th>\n",
              "      <th>capital_gain</th>\n",
              "      <th>capital_loss</th>\n",
              "      <th>hours_per_week</th>\n",
              "      <th>native_country</th>\n",
              "      <th>wage_class</th>\n",
              "    </tr>\n",
              "  </thead>\n",
              "  <tbody>\n",
              "    <tr>\n",
              "      <th>0</th>\n",
              "      <td>25</td>\n",
              "      <td>Private</td>\n",
              "      <td>226802</td>\n",
              "      <td>11th</td>\n",
              "      <td>7</td>\n",
              "      <td>Never-married</td>\n",
              "      <td>Machine-op-inspct</td>\n",
              "      <td>Own-child</td>\n",
              "      <td>Black</td>\n",
              "      <td>Male</td>\n",
              "      <td>0</td>\n",
              "      <td>0</td>\n",
              "      <td>40</td>\n",
              "      <td>United-States</td>\n",
              "      <td>&lt;=50K.</td>\n",
              "    </tr>\n",
              "    <tr>\n",
              "      <th>1</th>\n",
              "      <td>38</td>\n",
              "      <td>Private</td>\n",
              "      <td>89814</td>\n",
              "      <td>HS-grad</td>\n",
              "      <td>9</td>\n",
              "      <td>Married-civ-spouse</td>\n",
              "      <td>Farming-fishing</td>\n",
              "      <td>Husband</td>\n",
              "      <td>White</td>\n",
              "      <td>Male</td>\n",
              "      <td>0</td>\n",
              "      <td>0</td>\n",
              "      <td>50</td>\n",
              "      <td>United-States</td>\n",
              "      <td>&lt;=50K.</td>\n",
              "    </tr>\n",
              "    <tr>\n",
              "      <th>2</th>\n",
              "      <td>28</td>\n",
              "      <td>Local-gov</td>\n",
              "      <td>336951</td>\n",
              "      <td>Assoc-acdm</td>\n",
              "      <td>12</td>\n",
              "      <td>Married-civ-spouse</td>\n",
              "      <td>Protective-serv</td>\n",
              "      <td>Husband</td>\n",
              "      <td>White</td>\n",
              "      <td>Male</td>\n",
              "      <td>0</td>\n",
              "      <td>0</td>\n",
              "      <td>40</td>\n",
              "      <td>United-States</td>\n",
              "      <td>&gt;50K.</td>\n",
              "    </tr>\n",
              "    <tr>\n",
              "      <th>3</th>\n",
              "      <td>44</td>\n",
              "      <td>Private</td>\n",
              "      <td>160323</td>\n",
              "      <td>Some-college</td>\n",
              "      <td>10</td>\n",
              "      <td>Married-civ-spouse</td>\n",
              "      <td>Machine-op-inspct</td>\n",
              "      <td>Husband</td>\n",
              "      <td>Black</td>\n",
              "      <td>Male</td>\n",
              "      <td>7688</td>\n",
              "      <td>0</td>\n",
              "      <td>40</td>\n",
              "      <td>United-States</td>\n",
              "      <td>&gt;50K.</td>\n",
              "    </tr>\n",
              "    <tr>\n",
              "      <th>4</th>\n",
              "      <td>18</td>\n",
              "      <td>?</td>\n",
              "      <td>103497</td>\n",
              "      <td>Some-college</td>\n",
              "      <td>10</td>\n",
              "      <td>Never-married</td>\n",
              "      <td>?</td>\n",
              "      <td>Own-child</td>\n",
              "      <td>White</td>\n",
              "      <td>Female</td>\n",
              "      <td>0</td>\n",
              "      <td>0</td>\n",
              "      <td>30</td>\n",
              "      <td>United-States</td>\n",
              "      <td>&lt;=50K.</td>\n",
              "    </tr>\n",
              "  </tbody>\n",
              "</table>\n",
              "</div>"
            ],
            "text/plain": [
              "   age   workclass  fnlwgt  ... hours_per_week  native_country wage_class\n",
              "0   25     Private  226802  ...             40   United-States     <=50K.\n",
              "1   38     Private   89814  ...             50   United-States     <=50K.\n",
              "2   28   Local-gov  336951  ...             40   United-States      >50K.\n",
              "3   44     Private  160323  ...             40   United-States      >50K.\n",
              "4   18           ?  103497  ...             30   United-States     <=50K.\n",
              "\n",
              "[5 rows x 15 columns]"
            ]
          },
          "metadata": {
            "tags": []
          },
          "execution_count": 24
        }
      ]
    },
    {
      "cell_type": "markdown",
      "metadata": {
        "id": "HwV-VIz_MjqQ"
      },
      "source": [
        "**Data Exploration**"
      ]
    },
    {
      "cell_type": "code",
      "metadata": {
        "colab": {
          "base_uri": "https://localhost:8080/"
        },
        "id": "mt9cXljSLaVd",
        "outputId": "3433dec5-80f1-4c27-928e-9ce4eb8c30a1"
      },
      "source": [
        "train_set.isna().sum()"
      ],
      "execution_count": 25,
      "outputs": [
        {
          "output_type": "execute_result",
          "data": {
            "text/plain": [
              "age               0\n",
              "workclass         0\n",
              "fnlwgt            0\n",
              "education         0\n",
              "education_num     0\n",
              "marital_status    0\n",
              "occupation        0\n",
              "relationship      0\n",
              "race              0\n",
              "sex               0\n",
              "capital_gain      0\n",
              "capital_loss      0\n",
              "hours_per_week    0\n",
              "native_country    0\n",
              "wage_class        0\n",
              "dtype: int64"
            ]
          },
          "metadata": {
            "tags": []
          },
          "execution_count": 25
        }
      ]
    },
    {
      "cell_type": "code",
      "metadata": {
        "colab": {
          "base_uri": "https://localhost:8080/",
          "height": 607
        },
        "id": "FtkhciT_LaYq",
        "outputId": "af8715fd-ebf5-44ea-90b2-1349b742a42f"
      },
      "source": [
        "train_set.hist(figsize=(10,10))\n",
        "plt.show()"
      ],
      "execution_count": 26,
      "outputs": [
        {
          "output_type": "display_data",
          "data": {
            "image/png": "[encoded data removed]",
            "text/plain": [
              "<Figure size 720x720 with 6 Axes>"
            ]
          },
          "metadata": {
            "tags": [],
            "needs_background": "light"
          }
        }
      ]
    },
    {
      "cell_type": "code",
      "metadata": {
        "colab": {
          "base_uri": "https://localhost:8080/"
        },
        "id": "x-vnVOZWLabs",
        "outputId": "cd4c2399-a82d-494b-e152-3884f7823543"
      },
      "source": [
        "train_set.dtypes"
      ],
      "execution_count": 27,
      "outputs": [
        {
          "output_type": "execute_result",
          "data": {
            "text/plain": [
              "age                int64\n",
              "workclass         object\n",
              "fnlwgt             int64\n",
              "education         object\n",
              "education_num      int64\n",
              "marital_status    object\n",
              "occupation        object\n",
              "relationship      object\n",
              "race              object\n",
              "sex               object\n",
              "capital_gain       int64\n",
              "capital_loss       int64\n",
              "hours_per_week     int64\n",
              "native_country    object\n",
              "wage_class        object\n",
              "dtype: object"
            ]
          },
          "metadata": {
            "tags": []
          },
          "execution_count": 27
        }
      ]
    },
    {
      "cell_type": "code",
      "metadata": {
        "colab": {
          "base_uri": "https://localhost:8080/"
        },
        "id": "k0aDWZmVUOrW",
        "outputId": "cadcaec5-d4e9-4677-d159-b9a3206df9e0"
      },
      "source": [
        "train_set['workclass'].dtype=='object'\n",
        "train_set['workclass'].value_counts()\n",
        "#col=['workclass','education','marital_status','occupation','relationship','race','sex','native_country','wage_class']"
      ],
      "execution_count": 28,
      "outputs": [
        {
          "output_type": "execute_result",
          "data": {
            "text/plain": [
              " Private             22696\n",
              " Self-emp-not-inc     2541\n",
              " Local-gov            2093\n",
              " ?                    1836\n",
              " State-gov            1298\n",
              " Self-emp-inc         1116\n",
              " Federal-gov           960\n",
              " Without-pay            14\n",
              " Never-worked            7\n",
              "Name: workclass, dtype: int64"
            ]
          },
          "metadata": {
            "tags": []
          },
          "execution_count": 28
        }
      ]
    },
    {
      "cell_type": "code",
      "metadata": {
        "colab": {
          "base_uri": "https://localhost:8080/"
        },
        "id": "Z7xscPP5To-A",
        "outputId": "9062b511-1307-4689-d52e-4bf6ce32cdb8"
      },
      "source": [
        "for feature in col_labels:\n",
        "    if train_set[feature].dtype =='object':\n",
        "        \n",
        "         print('_'*10,feature, end=\" \",)\n",
        "         print('_'*10)\n",
        "         print(train_set[feature].value_counts())"
      ],
      "execution_count": 29,
      "outputs": [
        {
          "output_type": "stream",
          "text": [
            "__________ workclass __________\n",
            " Private             22696\n",
            " Self-emp-not-inc     2541\n",
            " Local-gov            2093\n",
            " ?                    1836\n",
            " State-gov            1298\n",
            " Self-emp-inc         1116\n",
            " Federal-gov           960\n",
            " Without-pay            14\n",
            " Never-worked            7\n",
            "Name: workclass, dtype: int64\n",
            "__________ education __________\n",
            " HS-grad         10501\n",
            " Some-college     7291\n",
            " Bachelors        5355\n",
            " Masters          1723\n",
            " Assoc-voc        1382\n",
            " 11th             1175\n",
            " Assoc-acdm       1067\n",
            " 10th              933\n",
            " 7th-8th           646\n",
            " Prof-school       576\n",
            " 9th               514\n",
            " 12th              433\n",
            " Doctorate         413\n",
            " 5th-6th           333\n",
            " 1st-4th           168\n",
            " Preschool          51\n",
            "Name: education, dtype: int64\n",
            "__________ marital_status __________\n",
            " Married-civ-spouse       14976\n",
            " Never-married            10683\n",
            " Divorced                  4443\n",
            " Separated                 1025\n",
            " Widowed                    993\n",
            " Married-spouse-absent      418\n",
            " Married-AF-spouse           23\n",
            "Name: marital_status, dtype: int64\n",
            "__________ occupation __________\n",
            " Prof-specialty       4140\n",
            " Craft-repair         4099\n",
            " Exec-managerial      4066\n",
            " Adm-clerical         3770\n",
            " Sales                3650\n",
            " Other-service        3295\n",
            " Machine-op-inspct    2002\n",
            " ?                    1843\n",
            " Transport-moving     1597\n",
            " Handlers-cleaners    1370\n",
            " Farming-fishing       994\n",
            " Tech-support          928\n",
            " Protective-serv       649\n",
            " Priv-house-serv       149\n",
            " Armed-Forces            9\n",
            "Name: occupation, dtype: int64\n",
            "__________ relationship __________\n",
            " Husband           13193\n",
            " Not-in-family      8305\n",
            " Own-child          5068\n",
            " Unmarried          3446\n",
            " Wife               1568\n",
            " Other-relative      981\n",
            "Name: relationship, dtype: int64\n",
            "__________ race __________\n",
            " White                 27816\n",
            " Black                  3124\n",
            " Asian-Pac-Islander     1039\n",
            " Amer-Indian-Eskimo      311\n",
            " Other                   271\n",
            "Name: race, dtype: int64\n",
            "__________ sex __________\n",
            " Male      21790\n",
            " Female    10771\n",
            "Name: sex, dtype: int64\n",
            "__________ native_country __________\n",
            " United-States                 29170\n",
            " Mexico                          643\n",
            " ?                               583\n",
            " Philippines                     198\n",
            " Germany                         137\n",
            " Canada                          121\n",
            " Puerto-Rico                     114\n",
            " El-Salvador                     106\n",
            " India                           100\n",
            " Cuba                             95\n",
            " England                          90\n",
            " Jamaica                          81\n",
            " South                            80\n",
            " China                            75\n",
            " Italy                            73\n",
            " Dominican-Republic               70\n",
            " Vietnam                          67\n",
            " Guatemala                        64\n",
            " Japan                            62\n",
            " Poland                           60\n",
            " Columbia                         59\n",
            " Taiwan                           51\n",
            " Haiti                            44\n",
            " Iran                             43\n",
            " Portugal                         37\n",
            " Nicaragua                        34\n",
            " Peru                             31\n",
            " France                           29\n",
            " Greece                           29\n",
            " Ecuador                          28\n",
            " Ireland                          24\n",
            " Hong                             20\n",
            " Trinadad&Tobago                  19\n",
            " Cambodia                         19\n",
            " Thailand                         18\n",
            " Laos                             18\n",
            " Yugoslavia                       16\n",
            " Outlying-US(Guam-USVI-etc)       14\n",
            " Hungary                          13\n",
            " Honduras                         13\n",
            " Scotland                         12\n",
            " Holand-Netherlands                1\n",
            "Name: native_country, dtype: int64\n",
            "__________ wage_class __________\n",
            " <=50K    24720\n",
            " >50K      7841\n",
            "Name: wage_class, dtype: int64\n"
          ],
          "name": "stdout"
        }
      ]
    },
    {
      "cell_type": "markdown",
      "metadata": {
        "id": "jz9_NH2YW-em"
      },
      "source": [
        "**Here we want to tackle the ? problem we want fix the problem .**\n",
        "\n",
        "Features Native_counrty, Occupation, workclass having '?' as one value need to be handle"
      ]
    },
    {
      "cell_type": "code",
      "metadata": {
        "colab": {
          "base_uri": "https://localhost:8080/"
        },
        "id": "JzQPAUN-UF4N",
        "outputId": "e8a5ce5d-21cf-49e4-c87a-e9cb5d10bfb7"
      },
      "source": [
        "index_no = [] # will contain three index series of desired syntexes\n",
        "def questionMark_index(features):\n",
        "    \n",
        "    for item in features:\n",
        "        print('_'*10,item, '_'*10)\n",
        "        index = train_set[train_set[item]== ' ?'].index\n",
        "        index_no.append(index)\n",
        "        print(\"Total no of `?` in {}: {}\".format(item, index.value_counts().sum()))  # sum of those indexes \n",
        "        \n",
        "features= ['workclass','occupation', 'native_country']\n",
        "questionMark_index(features)"
      ],
      "execution_count": 30,
      "outputs": [
        {
          "output_type": "stream",
          "text": [
            "__________ workclass __________\n",
            "Total no of `?` in workclass: 1836\n",
            "__________ occupation __________\n",
            "Total no of `?` in occupation: 1843\n",
            "__________ native_country __________\n",
            "Total no of `?` in native_country: 583\n"
          ],
          "name": "stdout"
        }
      ]
    },
    {
      "cell_type": "code",
      "metadata": {
        "id": "2FTG1riJY9IY",
        "colab": {
          "base_uri": "https://localhost:8080/"
        },
        "outputId": "6c71ecf5-dc13-4b0b-f6f2-9e6c328c3431"
      },
      "source": [
        "print(\"Original Shape of Train Set:\", train_set.shape)"
      ],
      "execution_count": 31,
      "outputs": [
        {
          "output_type": "stream",
          "text": [
            "Original Shape of Train Set: (32561, 15)\n"
          ],
          "name": "stdout"
        }
      ]
    },
    {
      "cell_type": "code",
      "metadata": {
        "id": "zrEPBSOpY9je",
        "colab": {
          "base_uri": "https://localhost:8080/"
        },
        "outputId": "883e2d28-ec1b-4620-b08a-2a7453450043"
      },
      "source": [
        "print('\\n Drowping `?` indexes from `workclass` featutre....')\n",
        "index1= train_set[train_set[\"workclass\"]== ' ?'].index\n",
        "train_set = train_set.drop(index1)\n",
        "print(\"Total New rows:\",train_set.shape[0])"
      ],
      "execution_count": 32,
      "outputs": [
        {
          "output_type": "stream",
          "text": [
            "\n",
            " Drowping `?` indexes from `workclass` featutre....\n",
            "Total New rows: 30725\n"
          ],
          "name": "stdout"
        }
      ]
    },
    {
      "cell_type": "code",
      "metadata": {
        "colab": {
          "base_uri": "https://localhost:8080/"
        },
        "id": "yexa3uDATFBS",
        "outputId": "d74849d0-2c90-486c-afbd-89c91db8a3c6"
      },
      "source": [
        "print('\\n Drowping `?` indexes from `native_country` featutre....')\n",
        "index2= train_set[train_set[\"native_country\"]== ' ?'].index\n",
        "train_set = train_set.drop(index2)\n",
        "print(\"Total New rows:\",train_set.shape[0])"
      ],
      "execution_count": 33,
      "outputs": [
        {
          "output_type": "stream",
          "text": [
            "\n",
            " Drowping `?` indexes from `native_country` featutre....\n",
            "Total New rows: 30169\n"
          ],
          "name": "stdout"
        }
      ]
    },
    {
      "cell_type": "code",
      "metadata": {
        "colab": {
          "base_uri": "https://localhost:8080/"
        },
        "id": "9JWDJmYWTbL7",
        "outputId": "3bfc243e-5670-4e7b-c516-b18587e3a639"
      },
      "source": [
        "print('\\n Drowping `?` indexes from `occupaction` featutre....')\n",
        "index3= train_set[train_set[\"occupation\"]== ' ?'].index\n",
        "train_set = train_set.drop(index3)\n",
        "print(\"Total New rows:\",train_set.shape[0])"
      ],
      "execution_count": 34,
      "outputs": [
        {
          "output_type": "stream",
          "text": [
            "\n",
            " Drowping `?` indexes from `occupaction` featutre....\n",
            "Total New rows: 30162\n"
          ],
          "name": "stdout"
        }
      ]
    },
    {
      "cell_type": "code",
      "metadata": {
        "colab": {
          "base_uri": "https://localhost:8080/"
        },
        "id": "bMCPSCoqUBXS",
        "outputId": "a9954677-f82f-4921-c3d1-afb9d6b7620a"
      },
      "source": [
        "questionMark_index(features)"
      ],
      "execution_count": 35,
      "outputs": [
        {
          "output_type": "stream",
          "text": [
            "__________ workclass __________\n",
            "Total no of `?` in workclass: 0\n",
            "__________ occupation __________\n",
            "Total no of `?` in occupation: 0\n",
            "__________ native_country __________\n",
            "Total no of `?` in native_country: 0\n"
          ],
          "name": "stdout"
        }
      ]
    },
    {
      "cell_type": "code",
      "metadata": {
        "colab": {
          "base_uri": "https://localhost:8080/"
        },
        "id": "1PS6Y5yeUBfz",
        "outputId": "eea69cee-bae6-446e-9eb6-06c443656569"
      },
      "source": [
        "train_set.shape"
      ],
      "execution_count": 36,
      "outputs": [
        {
          "output_type": "execute_result",
          "data": {
            "text/plain": [
              "(30162, 15)"
            ]
          },
          "metadata": {
            "tags": []
          },
          "execution_count": 36
        }
      ]
    },
    {
      "cell_type": "markdown",
      "metadata": {
        "id": "od8PuedDVnz1"
      },
      "source": [
        "**Now for applying XG Boost we convert categorical variable into integer by using one hot encoding**"
      ]
    },
    {
      "cell_type": "code",
      "metadata": {
        "id": "Ulv-N_kXUBjG"
      },
      "source": [
        "df1 = train_set.copy()                       \n",
        "\n",
        "objectFeature = []\n",
        "for i in list(df1.columns):\n",
        "    if (df1[i].dtypes == 'object'):\n",
        "        objectFeature.append(i)\n",
        "        \n",
        "\n",
        "df1=pd.get_dummies(df1[objectFeature[:-1]])  #Take all column except last one or target variable."
      ],
      "execution_count": 37,
      "outputs": []
    },
    {
      "cell_type": "code",
      "metadata": {
        "id": "XeLHoSFVUBmz"
      },
      "source": [
        "intFeature = []\n",
        "for i in list(train_set.columns):\n",
        "    if (train_set[i].dtypes == 'int64'):\n",
        "        intFeature.append(i)\n",
        "\n",
        "df2 = train_set[intFeature]"
      ],
      "execution_count": 38,
      "outputs": []
    },
    {
      "cell_type": "code",
      "metadata": {
        "id": "SoF5shnEUBqK"
      },
      "source": [
        "X_train = pd.concat([df1, df2], axis=1)"
      ],
      "execution_count": 39,
      "outputs": []
    },
    {
      "cell_type": "code",
      "metadata": {
        "colab": {
          "base_uri": "https://localhost:8080/"
        },
        "id": "b1ls9G_vWOMD",
        "outputId": "8d90aeb5-bd34-4fa9-e2a9-8bbdde583380"
      },
      "source": [
        "X_train.shape "
      ],
      "execution_count": 40,
      "outputs": [
        {
          "output_type": "execute_result",
          "data": {
            "text/plain": [
              "(30162, 104)"
            ]
          },
          "metadata": {
            "tags": []
          },
          "execution_count": 40
        }
      ]
    },
    {
      "cell_type": "code",
      "metadata": {
        "colab": {
          "base_uri": "https://localhost:8080/",
          "height": 296
        },
        "id": "P7KP2i8TWgke",
        "outputId": "5275f123-26b3-4700-fe7d-748301ecd60a"
      },
      "source": [
        "X_train.head()"
      ],
      "execution_count": 41,
      "outputs": [
        {
          "output_type": "execute_result",
          "data": {
            "text/html": [
              "<div>\n",
              "<style scoped>\n",
              "    .dataframe tbody tr th:only-of-type {\n",
              "        vertical-align: middle;\n",
              "    }\n",
              "\n",
              "    .dataframe tbody tr th {\n",
              "        vertical-align: top;\n",
              "    }\n",
              "\n",
              "    .dataframe thead th {\n",
              "        text-align: right;\n",
              "    }\n",
              "</style>\n",
              "<table border=\"1\" class=\"dataframe\">\n",
              "  <thead>\n",
              "    <tr style=\"text-align: right;\">\n",
              "      <th></th>\n",
              "      <th>workclass_ Federal-gov</th>\n",
              "      <th>workclass_ Local-gov</th>\n",
              "      <th>workclass_ Private</th>\n",
              "      <th>workclass_ Self-emp-inc</th>\n",
              "      <th>workclass_ Self-emp-not-inc</th>\n",
              "      <th>workclass_ State-gov</th>\n",
              "      <th>workclass_ Without-pay</th>\n",
              "      <th>education_ 10th</th>\n",
              "      <th>education_ 11th</th>\n",
              "      <th>education_ 12th</th>\n",
              "      <th>education_ 1st-4th</th>\n",
              "      <th>education_ 5th-6th</th>\n",
              "      <th>education_ 7th-8th</th>\n",
              "      <th>education_ 9th</th>\n",
              "      <th>education_ Assoc-acdm</th>\n",
              "      <th>education_ Assoc-voc</th>\n",
              "      <th>education_ Bachelors</th>\n",
              "      <th>education_ Doctorate</th>\n",
              "      <th>education_ HS-grad</th>\n",
              "      <th>education_ Masters</th>\n",
              "      <th>education_ Preschool</th>\n",
              "      <th>education_ Prof-school</th>\n",
              "      <th>education_ Some-college</th>\n",
              "      <th>marital_status_ Divorced</th>\n",
              "      <th>marital_status_ Married-AF-spouse</th>\n",
              "      <th>marital_status_ Married-civ-spouse</th>\n",
              "      <th>marital_status_ Married-spouse-absent</th>\n",
              "      <th>marital_status_ Never-married</th>\n",
              "      <th>marital_status_ Separated</th>\n",
              "      <th>marital_status_ Widowed</th>\n",
              "      <th>occupation_ Adm-clerical</th>\n",
              "      <th>occupation_ Armed-Forces</th>\n",
              "      <th>occupation_ Craft-repair</th>\n",
              "      <th>occupation_ Exec-managerial</th>\n",
              "      <th>occupation_ Farming-fishing</th>\n",
              "      <th>occupation_ Handlers-cleaners</th>\n",
              "      <th>occupation_ Machine-op-inspct</th>\n",
              "      <th>occupation_ Other-service</th>\n",
              "      <th>occupation_ Priv-house-serv</th>\n",
              "      <th>occupation_ Prof-specialty</th>\n",
              "      <th>...</th>\n",
              "      <th>native_country_ El-Salvador</th>\n",
              "      <th>native_country_ England</th>\n",
              "      <th>native_country_ France</th>\n",
              "      <th>native_country_ Germany</th>\n",
              "      <th>native_country_ Greece</th>\n",
              "      <th>native_country_ Guatemala</th>\n",
              "      <th>native_country_ Haiti</th>\n",
              "      <th>native_country_ Holand-Netherlands</th>\n",
              "      <th>native_country_ Honduras</th>\n",
              "      <th>native_country_ Hong</th>\n",
              "      <th>native_country_ Hungary</th>\n",
              "      <th>native_country_ India</th>\n",
              "      <th>native_country_ Iran</th>\n",
              "      <th>native_country_ Ireland</th>\n",
              "      <th>native_country_ Italy</th>\n",
              "      <th>native_country_ Jamaica</th>\n",
              "      <th>native_country_ Japan</th>\n",
              "      <th>native_country_ Laos</th>\n",
              "      <th>native_country_ Mexico</th>\n",
              "      <th>native_country_ Nicaragua</th>\n",
              "      <th>native_country_ Outlying-US(Guam-USVI-etc)</th>\n",
              "      <th>native_country_ Peru</th>\n",
              "      <th>native_country_ Philippines</th>\n",
              "      <th>native_country_ Poland</th>\n",
              "      <th>native_country_ Portugal</th>\n",
              "      <th>native_country_ Puerto-Rico</th>\n",
              "      <th>native_country_ Scotland</th>\n",
              "      <th>native_country_ South</th>\n",
              "      <th>native_country_ Taiwan</th>\n",
              "      <th>native_country_ Thailand</th>\n",
              "      <th>native_country_ Trinadad&amp;Tobago</th>\n",
              "      <th>native_country_ United-States</th>\n",
              "      <th>native_country_ Vietnam</th>\n",
              "      <th>native_country_ Yugoslavia</th>\n",
              "      <th>age</th>\n",
              "      <th>fnlwgt</th>\n",
              "      <th>education_num</th>\n",
              "      <th>capital_gain</th>\n",
              "      <th>capital_loss</th>\n",
              "      <th>hours_per_week</th>\n",
              "    </tr>\n",
              "  </thead>\n",
              "  <tbody>\n",
              "    <tr>\n",
              "      <th>0</th>\n",
              "      <td>0</td>\n",
              "      <td>0</td>\n",
              "      <td>0</td>\n",
              "      <td>0</td>\n",
              "      <td>0</td>\n",
              "      <td>1</td>\n",
              "      <td>0</td>\n",
              "      <td>0</td>\n",
              "      <td>0</td>\n",
              "      <td>0</td>\n",
              "      <td>0</td>\n",
              "      <td>0</td>\n",
              "      <td>0</td>\n",
              "      <td>0</td>\n",
              "      <td>0</td>\n",
              "      <td>0</td>\n",
              "      <td>1</td>\n",
              "      <td>0</td>\n",
              "      <td>0</td>\n",
              "      <td>0</td>\n",
              "      <td>0</td>\n",
              "      <td>0</td>\n",
              "      <td>0</td>\n",
              "      <td>0</td>\n",
              "      <td>0</td>\n",
              "      <td>0</td>\n",
              "      <td>0</td>\n",
              "      <td>1</td>\n",
              "      <td>0</td>\n",
              "      <td>0</td>\n",
              "      <td>1</td>\n",
              "      <td>0</td>\n",
              "      <td>0</td>\n",
              "      <td>0</td>\n",
              "      <td>0</td>\n",
              "      <td>0</td>\n",
              "      <td>0</td>\n",
              "      <td>0</td>\n",
              "      <td>0</td>\n",
              "      <td>0</td>\n",
              "      <td>...</td>\n",
              "      <td>0</td>\n",
              "      <td>0</td>\n",
              "      <td>0</td>\n",
              "      <td>0</td>\n",
              "      <td>0</td>\n",
              "      <td>0</td>\n",
              "      <td>0</td>\n",
              "      <td>0</td>\n",
              "      <td>0</td>\n",
              "      <td>0</td>\n",
              "      <td>0</td>\n",
              "      <td>0</td>\n",
              "      <td>0</td>\n",
              "      <td>0</td>\n",
              "      <td>0</td>\n",
              "      <td>0</td>\n",
              "      <td>0</td>\n",
              "      <td>0</td>\n",
              "      <td>0</td>\n",
              "      <td>0</td>\n",
              "      <td>0</td>\n",
              "      <td>0</td>\n",
              "      <td>0</td>\n",
              "      <td>0</td>\n",
              "      <td>0</td>\n",
              "      <td>0</td>\n",
              "      <td>0</td>\n",
              "      <td>0</td>\n",
              "      <td>0</td>\n",
              "      <td>0</td>\n",
              "      <td>0</td>\n",
              "      <td>1</td>\n",
              "      <td>0</td>\n",
              "      <td>0</td>\n",
              "      <td>39</td>\n",
              "      <td>77516</td>\n",
              "      <td>13</td>\n",
              "      <td>2174</td>\n",
              "      <td>0</td>\n",
              "      <td>40</td>\n",
              "    </tr>\n",
              "    <tr>\n",
              "      <th>1</th>\n",
              "      <td>0</td>\n",
              "      <td>0</td>\n",
              "      <td>0</td>\n",
              "      <td>0</td>\n",
              "      <td>1</td>\n",
              "      <td>0</td>\n",
              "      <td>0</td>\n",
              "      <td>0</td>\n",
              "      <td>0</td>\n",
              "      <td>0</td>\n",
              "      <td>0</td>\n",
              "      <td>0</td>\n",
              "      <td>0</td>\n",
              "      <td>0</td>\n",
              "      <td>0</td>\n",
              "      <td>0</td>\n",
              "      <td>1</td>\n",
              "      <td>0</td>\n",
              "      <td>0</td>\n",
              "      <td>0</td>\n",
              "      <td>0</td>\n",
              "      <td>0</td>\n",
              "      <td>0</td>\n",
              "      <td>0</td>\n",
              "      <td>0</td>\n",
              "      <td>1</td>\n",
              "      <td>0</td>\n",
              "      <td>0</td>\n",
              "      <td>0</td>\n",
              "      <td>0</td>\n",
              "      <td>0</td>\n",
              "      <td>0</td>\n",
              "      <td>0</td>\n",
              "      <td>1</td>\n",
              "      <td>0</td>\n",
              "      <td>0</td>\n",
              "      <td>0</td>\n",
              "      <td>0</td>\n",
              "      <td>0</td>\n",
              "      <td>0</td>\n",
              "      <td>...</td>\n",
              "      <td>0</td>\n",
              "      <td>0</td>\n",
              "      <td>0</td>\n",
              "      <td>0</td>\n",
              "      <td>0</td>\n",
              "      <td>0</td>\n",
              "      <td>0</td>\n",
              "      <td>0</td>\n",
              "      <td>0</td>\n",
              "      <td>0</td>\n",
              "      <td>0</td>\n",
              "      <td>0</td>\n",
              "      <td>0</td>\n",
              "      <td>0</td>\n",
              "      <td>0</td>\n",
              "      <td>0</td>\n",
              "      <td>0</td>\n",
              "      <td>0</td>\n",
              "      <td>0</td>\n",
              "      <td>0</td>\n",
              "      <td>0</td>\n",
              "      <td>0</td>\n",
              "      <td>0</td>\n",
              "      <td>0</td>\n",
              "      <td>0</td>\n",
              "      <td>0</td>\n",
              "      <td>0</td>\n",
              "      <td>0</td>\n",
              "      <td>0</td>\n",
              "      <td>0</td>\n",
              "      <td>0</td>\n",
              "      <td>1</td>\n",
              "      <td>0</td>\n",
              "      <td>0</td>\n",
              "      <td>50</td>\n",
              "      <td>83311</td>\n",
              "      <td>13</td>\n",
              "      <td>0</td>\n",
              "      <td>0</td>\n",
              "      <td>13</td>\n",
              "    </tr>\n",
              "    <tr>\n",
              "      <th>2</th>\n",
              "      <td>0</td>\n",
              "      <td>0</td>\n",
              "      <td>1</td>\n",
              "      <td>0</td>\n",
              "      <td>0</td>\n",
              "      <td>0</td>\n",
              "      <td>0</td>\n",
              "      <td>0</td>\n",
              "      <td>0</td>\n",
              "      <td>0</td>\n",
              "      <td>0</td>\n",
              "      <td>0</td>\n",
              "      <td>0</td>\n",
              "      <td>0</td>\n",
              "      <td>0</td>\n",
              "      <td>0</td>\n",
              "      <td>0</td>\n",
              "      <td>0</td>\n",
              "      <td>1</td>\n",
              "      <td>0</td>\n",
              "      <td>0</td>\n",
              "      <td>0</td>\n",
              "      <td>0</td>\n",
              "      <td>1</td>\n",
              "      <td>0</td>\n",
              "      <td>0</td>\n",
              "      <td>0</td>\n",
              "      <td>0</td>\n",
              "      <td>0</td>\n",
              "      <td>0</td>\n",
              "      <td>0</td>\n",
              "      <td>0</td>\n",
              "      <td>0</td>\n",
              "      <td>0</td>\n",
              "      <td>0</td>\n",
              "      <td>1</td>\n",
              "      <td>0</td>\n",
              "      <td>0</td>\n",
              "      <td>0</td>\n",
              "      <td>0</td>\n",
              "      <td>...</td>\n",
              "      <td>0</td>\n",
              "      <td>0</td>\n",
              "      <td>0</td>\n",
              "      <td>0</td>\n",
              "      <td>0</td>\n",
              "      <td>0</td>\n",
              "      <td>0</td>\n",
              "      <td>0</td>\n",
              "      <td>0</td>\n",
              "      <td>0</td>\n",
              "      <td>0</td>\n",
              "      <td>0</td>\n",
              "      <td>0</td>\n",
              "      <td>0</td>\n",
              "      <td>0</td>\n",
              "      <td>0</td>\n",
              "      <td>0</td>\n",
              "      <td>0</td>\n",
              "      <td>0</td>\n",
              "      <td>0</td>\n",
              "      <td>0</td>\n",
              "      <td>0</td>\n",
              "      <td>0</td>\n",
              "      <td>0</td>\n",
              "      <td>0</td>\n",
              "      <td>0</td>\n",
              "      <td>0</td>\n",
              "      <td>0</td>\n",
              "      <td>0</td>\n",
              "      <td>0</td>\n",
              "      <td>0</td>\n",
              "      <td>1</td>\n",
              "      <td>0</td>\n",
              "      <td>0</td>\n",
              "      <td>38</td>\n",
              "      <td>215646</td>\n",
              "      <td>9</td>\n",
              "      <td>0</td>\n",
              "      <td>0</td>\n",
              "      <td>40</td>\n",
              "    </tr>\n",
              "    <tr>\n",
              "      <th>3</th>\n",
              "      <td>0</td>\n",
              "      <td>0</td>\n",
              "      <td>1</td>\n",
              "      <td>0</td>\n",
              "      <td>0</td>\n",
              "      <td>0</td>\n",
              "      <td>0</td>\n",
              "      <td>0</td>\n",
              "      <td>1</td>\n",
              "      <td>0</td>\n",
              "      <td>0</td>\n",
              "      <td>0</td>\n",
              "      <td>0</td>\n",
              "      <td>0</td>\n",
              "      <td>0</td>\n",
              "      <td>0</td>\n",
              "      <td>0</td>\n",
              "      <td>0</td>\n",
              "      <td>0</td>\n",
              "      <td>0</td>\n",
              "      <td>0</td>\n",
              "      <td>0</td>\n",
              "      <td>0</td>\n",
              "      <td>0</td>\n",
              "      <td>0</td>\n",
              "      <td>1</td>\n",
              "      <td>0</td>\n",
              "      <td>0</td>\n",
              "      <td>0</td>\n",
              "      <td>0</td>\n",
              "      <td>0</td>\n",
              "      <td>0</td>\n",
              "      <td>0</td>\n",
              "      <td>0</td>\n",
              "      <td>0</td>\n",
              "      <td>1</td>\n",
              "      <td>0</td>\n",
              "      <td>0</td>\n",
              "      <td>0</td>\n",
              "      <td>0</td>\n",
              "      <td>...</td>\n",
              "      <td>0</td>\n",
              "      <td>0</td>\n",
              "      <td>0</td>\n",
              "      <td>0</td>\n",
              "      <td>0</td>\n",
              "      <td>0</td>\n",
              "      <td>0</td>\n",
              "      <td>0</td>\n",
              "      <td>0</td>\n",
              "      <td>0</td>\n",
              "      <td>0</td>\n",
              "      <td>0</td>\n",
              "      <td>0</td>\n",
              "      <td>0</td>\n",
              "      <td>0</td>\n",
              "      <td>0</td>\n",
              "      <td>0</td>\n",
              "      <td>0</td>\n",
              "      <td>0</td>\n",
              "      <td>0</td>\n",
              "      <td>0</td>\n",
              "      <td>0</td>\n",
              "      <td>0</td>\n",
              "      <td>0</td>\n",
              "      <td>0</td>\n",
              "      <td>0</td>\n",
              "      <td>0</td>\n",
              "      <td>0</td>\n",
              "      <td>0</td>\n",
              "      <td>0</td>\n",
              "      <td>0</td>\n",
              "      <td>1</td>\n",
              "      <td>0</td>\n",
              "      <td>0</td>\n",
              "      <td>53</td>\n",
              "      <td>234721</td>\n",
              "      <td>7</td>\n",
              "      <td>0</td>\n",
              "      <td>0</td>\n",
              "      <td>40</td>\n",
              "    </tr>\n",
              "    <tr>\n",
              "      <th>4</th>\n",
              "      <td>0</td>\n",
              "      <td>0</td>\n",
              "      <td>1</td>\n",
              "      <td>0</td>\n",
              "      <td>0</td>\n",
              "      <td>0</td>\n",
              "      <td>0</td>\n",
              "      <td>0</td>\n",
              "      <td>0</td>\n",
              "      <td>0</td>\n",
              "      <td>0</td>\n",
              "      <td>0</td>\n",
              "      <td>0</td>\n",
              "      <td>0</td>\n",
              "      <td>0</td>\n",
              "      <td>0</td>\n",
              "      <td>1</td>\n",
              "      <td>0</td>\n",
              "      <td>0</td>\n",
              "      <td>0</td>\n",
              "      <td>0</td>\n",
              "      <td>0</td>\n",
              "      <td>0</td>\n",
              "      <td>0</td>\n",
              "      <td>0</td>\n",
              "      <td>1</td>\n",
              "      <td>0</td>\n",
              "      <td>0</td>\n",
              "      <td>0</td>\n",
              "      <td>0</td>\n",
              "      <td>0</td>\n",
              "      <td>0</td>\n",
              "      <td>0</td>\n",
              "      <td>0</td>\n",
              "      <td>0</td>\n",
              "      <td>0</td>\n",
              "      <td>0</td>\n",
              "      <td>0</td>\n",
              "      <td>0</td>\n",
              "      <td>1</td>\n",
              "      <td>...</td>\n",
              "      <td>0</td>\n",
              "      <td>0</td>\n",
              "      <td>0</td>\n",
              "      <td>0</td>\n",
              "      <td>0</td>\n",
              "      <td>0</td>\n",
              "      <td>0</td>\n",
              "      <td>0</td>\n",
              "      <td>0</td>\n",
              "      <td>0</td>\n",
              "      <td>0</td>\n",
              "      <td>0</td>\n",
              "      <td>0</td>\n",
              "      <td>0</td>\n",
              "      <td>0</td>\n",
              "      <td>0</td>\n",
              "      <td>0</td>\n",
              "      <td>0</td>\n",
              "      <td>0</td>\n",
              "      <td>0</td>\n",
              "      <td>0</td>\n",
              "      <td>0</td>\n",
              "      <td>0</td>\n",
              "      <td>0</td>\n",
              "      <td>0</td>\n",
              "      <td>0</td>\n",
              "      <td>0</td>\n",
              "      <td>0</td>\n",
              "      <td>0</td>\n",
              "      <td>0</td>\n",
              "      <td>0</td>\n",
              "      <td>0</td>\n",
              "      <td>0</td>\n",
              "      <td>0</td>\n",
              "      <td>28</td>\n",
              "      <td>338409</td>\n",
              "      <td>13</td>\n",
              "      <td>0</td>\n",
              "      <td>0</td>\n",
              "      <td>40</td>\n",
              "    </tr>\n",
              "  </tbody>\n",
              "</table>\n",
              "<p>5 rows × 104 columns</p>\n",
              "</div>"
            ],
            "text/plain": [
              "   workclass_ Federal-gov  workclass_ Local-gov  ...  capital_loss  hours_per_week\n",
              "0                       0                     0  ...             0              40\n",
              "1                       0                     0  ...             0              13\n",
              "2                       0                     0  ...             0              40\n",
              "3                       0                     0  ...             0              40\n",
              "4                       0                     0  ...             0              40\n",
              "\n",
              "[5 rows x 104 columns]"
            ]
          },
          "metadata": {
            "tags": []
          },
          "execution_count": 41
        }
      ]
    },
    {
      "cell_type": "code",
      "metadata": {
        "colab": {
          "base_uri": "https://localhost:8080/"
        },
        "id": "Ked_Yne5WrDM",
        "outputId": "6f9ca9c9-4f45-4d67-ee2a-674f708ed971"
      },
      "source": [
        "y=train_set[objectFeature[-1]]\n",
        "y.head()"
      ],
      "execution_count": 43,
      "outputs": [
        {
          "output_type": "execute_result",
          "data": {
            "text/plain": [
              "0     <=50K\n",
              "1     <=50K\n",
              "2     <=50K\n",
              "3     <=50K\n",
              "4     <=50K\n",
              "Name: wage_class, dtype: object"
            ]
          },
          "metadata": {
            "tags": []
          },
          "execution_count": 43
        }
      ]
    },
    {
      "cell_type": "code",
      "metadata": {
        "id": "dd4EAbYdW2Uc"
      },
      "source": [
        "from sklearn import preprocessing\n",
        "label = preprocessing.LabelEncoder()\n",
        "Y_train=label.fit_transform(y)   # will display only two classes---> array([' <=50K', ' >50K'], dtype=object)y_train\n"
      ],
      "execution_count": 50,
      "outputs": []
    },
    {
      "cell_type": "code",
      "metadata": {
        "colab": {
          "base_uri": "https://localhost:8080/"
        },
        "id": "EoM106qEXIh0",
        "outputId": "864efc5f-a5b7-4f47-ff5c-e00aec1da4f6"
      },
      "source": [
        "Y_train"
      ],
      "execution_count": 51,
      "outputs": [
        {
          "output_type": "execute_result",
          "data": {
            "text/plain": [
              "array([0, 0, 0, ..., 0, 0, 1])"
            ]
          },
          "metadata": {
            "tags": []
          },
          "execution_count": 51
        }
      ]
    },
    {
      "cell_type": "markdown",
      "metadata": {
        "id": "L5k0GdPkYEwx"
      },
      "source": [
        "**We do same for test data set but here we can use train dataset to buliding the model.**"
      ]
    },
    {
      "cell_type": "markdown",
      "metadata": {
        "id": "xyTIkgwfYVR4"
      },
      "source": [
        "**XGBoost Classifer**"
      ]
    },
    {
      "cell_type": "code",
      "metadata": {
        "id": "puxFTf47YDas"
      },
      "source": [
        "from xgboost.sklearn import XGBClassifier\n",
        "from sklearn.model_selection import train_test_split\n",
        "from sklearn.metrics import accuracy_score"
      ],
      "execution_count": 49,
      "outputs": []
    },
    {
      "cell_type": "code",
      "metadata": {
        "id": "7kwblwK2YDeS"
      },
      "source": [
        "params = {\n",
        "    'objective': 'binary:logistic',\n",
        "    'max_depth': 2,\n",
        "    'learning_rate': .5,\n",
        "    'silent': True,    # would be boolean in sklearn\n",
        "    'n_estimators': 100\n",
        "}"
      ],
      "execution_count": 52,
      "outputs": []
    },
    {
      "cell_type": "code",
      "metadata": {
        "id": "it6AgggjYDhc"
      },
      "source": [
        "x_train, x_test, y_train, y_test =train_test_split(X_train, Y_train, test_size=.30)"
      ],
      "execution_count": 53,
      "outputs": []
    },
    {
      "cell_type": "code",
      "metadata": {
        "colab": {
          "base_uri": "https://localhost:8080/"
        },
        "id": "VvitBPyXYDkQ",
        "outputId": "341e571d-c6dc-484a-88a0-d6f9d3724d18"
      },
      "source": [
        "x_train.shape, x_test.shape, y_train.shape, y_test.shape"
      ],
      "execution_count": 54,
      "outputs": [
        {
          "output_type": "execute_result",
          "data": {
            "text/plain": [
              "((21113, 104), (9049, 104), (21113,), (9049,))"
            ]
          },
          "metadata": {
            "tags": []
          },
          "execution_count": 54
        }
      ]
    },
    {
      "cell_type": "markdown",
      "metadata": {
        "id": "RCMNZTJbZY8q"
      },
      "source": [
        "**First Model without hypertunning**"
      ]
    },
    {
      "cell_type": "code",
      "metadata": {
        "id": "Tpw1kn73ZV37"
      },
      "source": [
        "xgb = XGBClassifier(**params).fit(x_train,y_train)"
      ],
      "execution_count": 55,
      "outputs": []
    },
    {
      "cell_type": "code",
      "metadata": {
        "id": "ZHeoE9LTZV7q"
      },
      "source": [
        "y_pred= xgb.predict(x_test)"
      ],
      "execution_count": 56,
      "outputs": []
    },
    {
      "cell_type": "code",
      "metadata": {
        "colab": {
          "base_uri": "https://localhost:8080/"
        },
        "id": "pa9TYQ8RZV_z",
        "outputId": "eb98e94b-af8a-4a19-8de9-b38e4ff4465e"
      },
      "source": [
        "accuracy_score(y_test, y_pred)"
      ],
      "execution_count": 58,
      "outputs": [
        {
          "output_type": "execute_result",
          "data": {
            "text/plain": [
              "0.8709249640844292"
            ]
          },
          "metadata": {
            "tags": []
          },
          "execution_count": 58
        }
      ]
    },
    {
      "cell_type": "markdown",
      "metadata": {
        "id": "QQBHR0fFhynZ"
      },
      "source": [
        "**Second Model with hypertunning**"
      ]
    },
    {
      "cell_type": "code",
      "metadata": {
        "id": "YFrpyW0dZWCp"
      },
      "source": [
        "from sklearn.model_selection import GridSearchCV"
      ],
      "execution_count": 59,
      "outputs": []
    },
    {
      "cell_type": "code",
      "metadata": {
        "id": "f2_h6ov7ZWFN"
      },
      "source": [
        "param_grid={\n",
        "   \n",
        "    ' learning_rate':[1,0.5],\n",
        "    'max_depth': [3,5],\n",
        "    'n_estimators':[10,50]\n",
        "    \n",
        "}"
      ],
      "execution_count": 64,
      "outputs": []
    },
    {
      "cell_type": "code",
      "metadata": {
        "id": "sDKMJnNDbTBa"
      },
      "source": [
        "grid= GridSearchCV(XGBClassifier(objective='binary:logistic'),param_grid, verbose=3)"
      ],
      "execution_count": 65,
      "outputs": []
    },
    {
      "cell_type": "code",
      "metadata": {
        "colab": {
          "base_uri": "https://localhost:8080/"
        },
        "id": "upkjeDnRbTPJ",
        "outputId": "00fd68a3-f7a2-4fdb-c20a-60f1c9f7ba87"
      },
      "source": [
        "grid.fit(x_train,y_train)"
      ],
      "execution_count": 66,
      "outputs": [
        {
          "output_type": "stream",
          "text": [
            "Fitting 5 folds for each of 8 candidates, totalling 40 fits\n",
            "[CV]  learning_rate=1, max_depth=3, n_estimators=10 ..................\n"
          ],
          "name": "stdout"
        },
        {
          "output_type": "stream",
          "text": [
            "[Parallel(n_jobs=1)]: Using backend SequentialBackend with 1 concurrent workers.\n"
          ],
          "name": "stderr"
        },
        {
          "output_type": "stream",
          "text": [
            "[CV]   learning_rate=1, max_depth=3, n_estimators=10, score=0.844, total=   0.6s\n",
            "[CV]  learning_rate=1, max_depth=3, n_estimators=10 ..................\n"
          ],
          "name": "stdout"
        },
        {
          "output_type": "stream",
          "text": [
            "[Parallel(n_jobs=1)]: Done   1 out of   1 | elapsed:    0.6s remaining:    0.0s\n"
          ],
          "name": "stderr"
        },
        {
          "output_type": "stream",
          "text": [
            "[CV]   learning_rate=1, max_depth=3, n_estimators=10, score=0.837, total=   0.5s\n",
            "[CV]  learning_rate=1, max_depth=3, n_estimators=10 ..................\n"
          ],
          "name": "stdout"
        },
        {
          "output_type": "stream",
          "text": [
            "[Parallel(n_jobs=1)]: Done   2 out of   2 | elapsed:    1.1s remaining:    0.0s\n"
          ],
          "name": "stderr"
        },
        {
          "output_type": "stream",
          "text": [
            "[CV]   learning_rate=1, max_depth=3, n_estimators=10, score=0.840, total=   0.6s\n",
            "[CV]  learning_rate=1, max_depth=3, n_estimators=10 ..................\n",
            "[CV]   learning_rate=1, max_depth=3, n_estimators=10, score=0.841, total=   0.6s\n",
            "[CV]  learning_rate=1, max_depth=3, n_estimators=10 ..................\n",
            "[CV]   learning_rate=1, max_depth=3, n_estimators=10, score=0.839, total=   0.6s\n",
            "[CV]  learning_rate=1, max_depth=3, n_estimators=50 ..................\n",
            "[CV]   learning_rate=1, max_depth=3, n_estimators=50, score=0.857, total=   2.1s\n",
            "[CV]  learning_rate=1, max_depth=3, n_estimators=50 ..................\n",
            "[CV]   learning_rate=1, max_depth=3, n_estimators=50, score=0.853, total=   2.1s\n",
            "[CV]  learning_rate=1, max_depth=3, n_estimators=50 ..................\n",
            "[CV]   learning_rate=1, max_depth=3, n_estimators=50, score=0.851, total=   2.1s\n",
            "[CV]  learning_rate=1, max_depth=3, n_estimators=50 ..................\n",
            "[CV]   learning_rate=1, max_depth=3, n_estimators=50, score=0.853, total=   2.1s\n",
            "[CV]  learning_rate=1, max_depth=3, n_estimators=50 ..................\n",
            "[CV]   learning_rate=1, max_depth=3, n_estimators=50, score=0.851, total=   2.1s\n",
            "[CV]  learning_rate=1, max_depth=5, n_estimators=10 ..................\n",
            "[CV]   learning_rate=1, max_depth=5, n_estimators=10, score=0.855, total=   0.7s\n",
            "[CV]  learning_rate=1, max_depth=5, n_estimators=10 ..................\n",
            "[CV]   learning_rate=1, max_depth=5, n_estimators=10, score=0.844, total=   0.8s\n",
            "[CV]  learning_rate=1, max_depth=5, n_estimators=10 ..................\n",
            "[CV]   learning_rate=1, max_depth=5, n_estimators=10, score=0.848, total=   0.7s\n",
            "[CV]  learning_rate=1, max_depth=5, n_estimators=10 ..................\n",
            "[CV]   learning_rate=1, max_depth=5, n_estimators=10, score=0.851, total=   0.8s\n",
            "[CV]  learning_rate=1, max_depth=5, n_estimators=10 ..................\n",
            "[CV]   learning_rate=1, max_depth=5, n_estimators=10, score=0.848, total=   0.8s\n",
            "[CV]  learning_rate=1, max_depth=5, n_estimators=50 ..................\n",
            "[CV]   learning_rate=1, max_depth=5, n_estimators=50, score=0.861, total=   3.1s\n",
            "[CV]  learning_rate=1, max_depth=5, n_estimators=50 ..................\n",
            "[CV]   learning_rate=1, max_depth=5, n_estimators=50, score=0.858, total=   3.1s\n",
            "[CV]  learning_rate=1, max_depth=5, n_estimators=50 ..................\n",
            "[CV]   learning_rate=1, max_depth=5, n_estimators=50, score=0.856, total=   3.1s\n",
            "[CV]  learning_rate=1, max_depth=5, n_estimators=50 ..................\n",
            "[CV]   learning_rate=1, max_depth=5, n_estimators=50, score=0.861, total=   3.1s\n",
            "[CV]  learning_rate=1, max_depth=5, n_estimators=50 ..................\n",
            "[CV]   learning_rate=1, max_depth=5, n_estimators=50, score=0.858, total=   3.1s\n",
            "[CV]  learning_rate=0.5, max_depth=3, n_estimators=10 ................\n",
            "[CV]   learning_rate=0.5, max_depth=3, n_estimators=10, score=0.844, total=   0.5s\n",
            "[CV]  learning_rate=0.5, max_depth=3, n_estimators=10 ................\n",
            "[CV]   learning_rate=0.5, max_depth=3, n_estimators=10, score=0.837, total=   0.5s\n",
            "[CV]  learning_rate=0.5, max_depth=3, n_estimators=10 ................\n",
            "[CV]   learning_rate=0.5, max_depth=3, n_estimators=10, score=0.840, total=   0.6s\n",
            "[CV]  learning_rate=0.5, max_depth=3, n_estimators=10 ................\n",
            "[CV]   learning_rate=0.5, max_depth=3, n_estimators=10, score=0.841, total=   0.5s\n",
            "[CV]  learning_rate=0.5, max_depth=3, n_estimators=10 ................\n",
            "[CV]   learning_rate=0.5, max_depth=3, n_estimators=10, score=0.839, total=   0.6s\n",
            "[CV]  learning_rate=0.5, max_depth=3, n_estimators=50 ................\n",
            "[CV]   learning_rate=0.5, max_depth=3, n_estimators=50, score=0.857, total=   2.1s\n",
            "[CV]  learning_rate=0.5, max_depth=3, n_estimators=50 ................\n",
            "[CV]   learning_rate=0.5, max_depth=3, n_estimators=50, score=0.853, total=   2.1s\n",
            "[CV]  learning_rate=0.5, max_depth=3, n_estimators=50 ................\n",
            "[CV]   learning_rate=0.5, max_depth=3, n_estimators=50, score=0.851, total=   2.1s\n",
            "[CV]  learning_rate=0.5, max_depth=3, n_estimators=50 ................\n",
            "[CV]   learning_rate=0.5, max_depth=3, n_estimators=50, score=0.853, total=   2.1s\n",
            "[CV]  learning_rate=0.5, max_depth=3, n_estimators=50 ................\n",
            "[CV]   learning_rate=0.5, max_depth=3, n_estimators=50, score=0.851, total=   2.1s\n",
            "[CV]  learning_rate=0.5, max_depth=5, n_estimators=10 ................\n",
            "[CV]   learning_rate=0.5, max_depth=5, n_estimators=10, score=0.855, total=   0.7s\n",
            "[CV]  learning_rate=0.5, max_depth=5, n_estimators=10 ................\n",
            "[CV]   learning_rate=0.5, max_depth=5, n_estimators=10, score=0.844, total=   0.8s\n",
            "[CV]  learning_rate=0.5, max_depth=5, n_estimators=10 ................\n",
            "[CV]   learning_rate=0.5, max_depth=5, n_estimators=10, score=0.848, total=   0.7s\n",
            "[CV]  learning_rate=0.5, max_depth=5, n_estimators=10 ................\n",
            "[CV]   learning_rate=0.5, max_depth=5, n_estimators=10, score=0.851, total=   0.8s\n",
            "[CV]  learning_rate=0.5, max_depth=5, n_estimators=10 ................\n",
            "[CV]   learning_rate=0.5, max_depth=5, n_estimators=10, score=0.848, total=   0.8s\n",
            "[CV]  learning_rate=0.5, max_depth=5, n_estimators=50 ................\n",
            "[CV]   learning_rate=0.5, max_depth=5, n_estimators=50, score=0.861, total=   3.1s\n",
            "[CV]  learning_rate=0.5, max_depth=5, n_estimators=50 ................\n",
            "[CV]   learning_rate=0.5, max_depth=5, n_estimators=50, score=0.858, total=   3.1s\n",
            "[CV]  learning_rate=0.5, max_depth=5, n_estimators=50 ................\n",
            "[CV]   learning_rate=0.5, max_depth=5, n_estimators=50, score=0.856, total=   3.1s\n",
            "[CV]  learning_rate=0.5, max_depth=5, n_estimators=50 ................\n",
            "[CV]   learning_rate=0.5, max_depth=5, n_estimators=50, score=0.861, total=   3.1s\n",
            "[CV]  learning_rate=0.5, max_depth=5, n_estimators=50 ................\n",
            "[CV]   learning_rate=0.5, max_depth=5, n_estimators=50, score=0.858, total=   3.2s\n"
          ],
          "name": "stdout"
        },
        {
          "output_type": "stream",
          "text": [
            "[Parallel(n_jobs=1)]: Done  40 out of  40 | elapsed:  1.1min finished\n"
          ],
          "name": "stderr"
        },
        {
          "output_type": "execute_result",
          "data": {
            "text/plain": [
              "GridSearchCV(cv=None, error_score=nan,\n",
              "             estimator=XGBClassifier(base_score=0.5, booster='gbtree',\n",
              "                                     colsample_bylevel=1, colsample_bynode=1,\n",
              "                                     colsample_bytree=1, gamma=0,\n",
              "                                     learning_rate=0.1, max_delta_step=0,\n",
              "                                     max_depth=3, min_child_weight=1,\n",
              "                                     missing=None, n_estimators=100, n_jobs=1,\n",
              "                                     nthread=None, objective='binary:logistic',\n",
              "                                     random_state=0, reg_alpha=0, reg_lambda=1,\n",
              "                                     scale_pos_weight=1, seed=None, silent=None,\n",
              "                                     subsample=1, verbosity=1),\n",
              "             iid='deprecated', n_jobs=None,\n",
              "             param_grid={' learning_rate': [1, 0.5], 'max_depth': [3, 5],\n",
              "                         'n_estimators': [10, 50]},\n",
              "             pre_dispatch='2*n_jobs', refit=True, return_train_score=False,\n",
              "             scoring=None, verbose=3)"
            ]
          },
          "metadata": {
            "tags": []
          },
          "execution_count": 66
        }
      ]
    },
    {
      "cell_type": "code",
      "metadata": {
        "colab": {
          "base_uri": "https://localhost:8080/"
        },
        "id": "_OZPU8mXbTfT",
        "outputId": "d2a74113-8e0f-4d10-82c8-3505982f89b5"
      },
      "source": [
        "grid.best_params_"
      ],
      "execution_count": 67,
      "outputs": [
        {
          "output_type": "execute_result",
          "data": {
            "text/plain": [
              "{' learning_rate': 1, 'max_depth': 5, 'n_estimators': 50}"
            ]
          },
          "metadata": {
            "tags": []
          },
          "execution_count": 67
        }
      ]
    },
    {
      "cell_type": "code",
      "metadata": {
        "colab": {
          "base_uri": "https://localhost:8080/"
        },
        "id": "ZRwa5Uc-bkIO",
        "outputId": "8e38a88b-e8f0-4cdf-b283-21288e608af3"
      },
      "source": [
        "new_model=XGBClassifier(learning_rate= 1, max_depth= 5, n_estimators= 50)\n",
        "new_model.fit(x_train, y_train)"
      ],
      "execution_count": 69,
      "outputs": [
        {
          "output_type": "execute_result",
          "data": {
            "text/plain": [
              "XGBClassifier(base_score=0.5, booster='gbtree', colsample_bylevel=1,\n",
              "              colsample_bynode=1, colsample_bytree=1, gamma=0, learning_rate=1,\n",
              "              max_delta_step=0, max_depth=5, min_child_weight=1, missing=None,\n",
              "              n_estimators=50, n_jobs=1, nthread=None,\n",
              "              objective='binary:logistic', random_state=0, reg_alpha=0,\n",
              "              reg_lambda=1, scale_pos_weight=1, seed=None, silent=None,\n",
              "              subsample=1, verbosity=1)"
            ]
          },
          "metadata": {
            "tags": []
          },
          "execution_count": 69
        }
      ]
    },
    {
      "cell_type": "code",
      "metadata": {
        "colab": {
          "base_uri": "https://localhost:8080/"
        },
        "id": "LpM3RE6ebkLq",
        "outputId": "54c4c5c7-35be-4e5f-c6cc-187d846d8b33"
      },
      "source": [
        "y_pred_new = new_model.predict(x_test)\n",
        "predictions_new = [round(value) for value in y_pred_new]\n",
        "accuracy_new = accuracy_score(y_test,predictions_new)\n",
        "accuracy_new"
      ],
      "execution_count": 70,
      "outputs": [
        {
          "output_type": "execute_result",
          "data": {
            "text/plain": [
              "0.8610896231627804"
            ]
          },
          "metadata": {
            "tags": []
          },
          "execution_count": 70
        }
      ]
    }
  ]
}