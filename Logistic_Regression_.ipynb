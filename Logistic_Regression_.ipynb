{
  "nbformat": 4,
  "nbformat_minor": 0,
  "metadata": {
    "colab": {
      "name": "Logistic Regression .ipynb",
      "provenance": [],
      "collapsed_sections": []
    },
    "kernelspec": {
      "name": "python3",
      "display_name": "Python 3"
    }
  },
  "cells": [
    {
      "cell_type": "markdown",
      "metadata": {
        "id": "_Zg7vD_0rSww"
      },
      "source": [
        "**Problem Statement :**\r\n",
        "\r\n",
        "I decided to treat this as a classification problem by creating a new binary variable affair (did the woman have at least one affair?) and trying to predict the classification for each woman."
      ]
    },
    {
      "cell_type": "markdown",
      "metadata": {
        "id": "0Xyk3gZbrslr"
      },
      "source": [
        "**Dataset:**\r\n",
        " \r\n",
        " The dataset I chose is the affairs dataset that comes with Statsmodels. It was derived from a survey of women in 1974 by Redbook magazine, in which married women were asked about their participation in extramarital affairs. More information about the study is available in a 1978 paper from the Journal of Political Economy."
      ]
    },
    {
      "cell_type": "markdown",
      "metadata": {
        "id": "_MjBd8mwr6L-"
      },
      "source": [
        "**Description of Variables:**\r\n",
        "\r\n",
        "The dataset contains 6366 observations of 9 variables:\r\n",
        "\r\n",
        "\r\n",
        "--> rate_marriage: woman's rating of her marriage (1 = very poor, 5 = very good)\r\n",
        "\r\n",
        "--> age: woman's age\r\n",
        "\r\n",
        "--> yrs_married: number of years married\r\n",
        "\r\n",
        "--> children: number of children\r\n",
        "\r\n",
        "--> religious: woman's rating of how religious she is (1 = not religious, 4 = strongly religious)\r\n",
        "\r\n",
        "--> educ: level of education (9 = grade school, 12 = high school, 14 =\r\n",
        "some college, 16 = college graduate, 17 = some graduate school, 20 = advanced degree)\r\n",
        "\r\n",
        "--> occupation: woman's occupation (1 = student, 2 = farming/semiskilled/unskilled, 3 = \"white collar\", 4=teacher/nurse/writer/technician/skilled, 5 = managerial/business, 6 =professional with advanced degree)\r\n",
        "\r\n",
        "--> occupation_husb: husband's occupation (same coding as above)\r\n",
        "\r\n",
        "--> affairs: time spent in extra-marital affairs"
      ]
    },
    {
      "cell_type": "markdown",
      "metadata": {
        "id": "_Pfg7N7rsaY7"
      },
      "source": [
        "**Step 0: Import importance libraries which we will going to use .**"
      ]
    },
    {
      "cell_type": "code",
      "metadata": {
        "id": "F3o-_9_enRwn"
      },
      "source": [
        "import numpy as np\r\n",
        "import pandas as pd\r\n",
        "import statsmodels.api as sm\r\n",
        "import matplotlib.pyplot as plt\r\n",
        "import seaborn as sns\r\n",
        "import matplotlib.pyplot as plt\r\n",
        "from sklearn.linear_model import LogisticRegression\r\n",
        "from patsy import dmatrices\r\n",
        "from sklearn.model_selection import train_test_split\r\n",
        "from sklearn.metrics import accuracy_score,roc_auc_score,classification_report,confusion_matrix\r\n",
        "from sklearn.model_selection import cross_val_score"
      ],
      "execution_count": 43,
      "outputs": []
    },
    {
      "cell_type": "markdown",
      "metadata": {
        "id": "7ca7XVvxyNKe"
      },
      "source": [
        "**Data Pre-processing**"
      ]
    },
    {
      "cell_type": "code",
      "metadata": {
        "colab": {
          "base_uri": "https://localhost:8080/",
          "height": 196
        },
        "id": "W7pUqGt9sq4G",
        "outputId": "f35a574a-41d1-4fac-a92e-e1af0d6f87fb"
      },
      "source": [
        "data = sm.datasets.fair.load_pandas().data\r\n",
        "data.head()"
      ],
      "execution_count": 3,
      "outputs": [
        {
          "output_type": "execute_result",
          "data": {
            "text/html": [
              "<div>\n",
              "<style scoped>\n",
              "    .dataframe tbody tr th:only-of-type {\n",
              "        vertical-align: middle;\n",
              "    }\n",
              "\n",
              "    .dataframe tbody tr th {\n",
              "        vertical-align: top;\n",
              "    }\n",
              "\n",
              "    .dataframe thead th {\n",
              "        text-align: right;\n",
              "    }\n",
              "</style>\n",
              "<table border=\"1\" class=\"dataframe\">\n",
              "  <thead>\n",
              "    <tr style=\"text-align: right;\">\n",
              "      <th></th>\n",
              "      <th>rate_marriage</th>\n",
              "      <th>age</th>\n",
              "      <th>yrs_married</th>\n",
              "      <th>children</th>\n",
              "      <th>religious</th>\n",
              "      <th>educ</th>\n",
              "      <th>occupation</th>\n",
              "      <th>occupation_husb</th>\n",
              "      <th>affairs</th>\n",
              "    </tr>\n",
              "  </thead>\n",
              "  <tbody>\n",
              "    <tr>\n",
              "      <th>0</th>\n",
              "      <td>3.0</td>\n",
              "      <td>32.0</td>\n",
              "      <td>9.0</td>\n",
              "      <td>3.0</td>\n",
              "      <td>3.0</td>\n",
              "      <td>17.0</td>\n",
              "      <td>2.0</td>\n",
              "      <td>5.0</td>\n",
              "      <td>0.111111</td>\n",
              "    </tr>\n",
              "    <tr>\n",
              "      <th>1</th>\n",
              "      <td>3.0</td>\n",
              "      <td>27.0</td>\n",
              "      <td>13.0</td>\n",
              "      <td>3.0</td>\n",
              "      <td>1.0</td>\n",
              "      <td>14.0</td>\n",
              "      <td>3.0</td>\n",
              "      <td>4.0</td>\n",
              "      <td>3.230769</td>\n",
              "    </tr>\n",
              "    <tr>\n",
              "      <th>2</th>\n",
              "      <td>4.0</td>\n",
              "      <td>22.0</td>\n",
              "      <td>2.5</td>\n",
              "      <td>0.0</td>\n",
              "      <td>1.0</td>\n",
              "      <td>16.0</td>\n",
              "      <td>3.0</td>\n",
              "      <td>5.0</td>\n",
              "      <td>1.400000</td>\n",
              "    </tr>\n",
              "    <tr>\n",
              "      <th>3</th>\n",
              "      <td>4.0</td>\n",
              "      <td>37.0</td>\n",
              "      <td>16.5</td>\n",
              "      <td>4.0</td>\n",
              "      <td>3.0</td>\n",
              "      <td>16.0</td>\n",
              "      <td>5.0</td>\n",
              "      <td>5.0</td>\n",
              "      <td>0.727273</td>\n",
              "    </tr>\n",
              "    <tr>\n",
              "      <th>4</th>\n",
              "      <td>5.0</td>\n",
              "      <td>27.0</td>\n",
              "      <td>9.0</td>\n",
              "      <td>1.0</td>\n",
              "      <td>1.0</td>\n",
              "      <td>14.0</td>\n",
              "      <td>3.0</td>\n",
              "      <td>4.0</td>\n",
              "      <td>4.666666</td>\n",
              "    </tr>\n",
              "  </tbody>\n",
              "</table>\n",
              "</div>"
            ],
            "text/plain": [
              "   rate_marriage   age  yrs_married  ...  occupation  occupation_husb   affairs\n",
              "0            3.0  32.0          9.0  ...         2.0              5.0  0.111111\n",
              "1            3.0  27.0         13.0  ...         3.0              4.0  3.230769\n",
              "2            4.0  22.0          2.5  ...         3.0              5.0  1.400000\n",
              "3            4.0  37.0         16.5  ...         5.0              5.0  0.727273\n",
              "4            5.0  27.0          9.0  ...         3.0              4.0  4.666666\n",
              "\n",
              "[5 rows x 9 columns]"
            ]
          },
          "metadata": {
            "tags": []
          },
          "execution_count": 3
        }
      ]
    },
    {
      "cell_type": "code",
      "metadata": {
        "colab": {
          "base_uri": "https://localhost:8080/",
          "height": 196
        },
        "id": "I0oaKVnUsq7X",
        "outputId": "27eadb58-09d8-4816-bd90-eb8512856c6b"
      },
      "source": [
        "# add \"affair\" column: 1 represents having affairs, 0 represents not\r\n",
        "data['affair'] = (data.affairs > 0).astype(int)\r\n",
        "data.head()"
      ],
      "execution_count": 6,
      "outputs": [
        {
          "output_type": "execute_result",
          "data": {
            "text/html": [
              "<div>\n",
              "<style scoped>\n",
              "    .dataframe tbody tr th:only-of-type {\n",
              "        vertical-align: middle;\n",
              "    }\n",
              "\n",
              "    .dataframe tbody tr th {\n",
              "        vertical-align: top;\n",
              "    }\n",
              "\n",
              "    .dataframe thead th {\n",
              "        text-align: right;\n",
              "    }\n",
              "</style>\n",
              "<table border=\"1\" class=\"dataframe\">\n",
              "  <thead>\n",
              "    <tr style=\"text-align: right;\">\n",
              "      <th></th>\n",
              "      <th>rate_marriage</th>\n",
              "      <th>age</th>\n",
              "      <th>yrs_married</th>\n",
              "      <th>children</th>\n",
              "      <th>religious</th>\n",
              "      <th>educ</th>\n",
              "      <th>occupation</th>\n",
              "      <th>occupation_husb</th>\n",
              "      <th>affairs</th>\n",
              "      <th>affair</th>\n",
              "    </tr>\n",
              "  </thead>\n",
              "  <tbody>\n",
              "    <tr>\n",
              "      <th>0</th>\n",
              "      <td>3.0</td>\n",
              "      <td>32.0</td>\n",
              "      <td>9.0</td>\n",
              "      <td>3.0</td>\n",
              "      <td>3.0</td>\n",
              "      <td>17.0</td>\n",
              "      <td>2.0</td>\n",
              "      <td>5.0</td>\n",
              "      <td>0.111111</td>\n",
              "      <td>1</td>\n",
              "    </tr>\n",
              "    <tr>\n",
              "      <th>1</th>\n",
              "      <td>3.0</td>\n",
              "      <td>27.0</td>\n",
              "      <td>13.0</td>\n",
              "      <td>3.0</td>\n",
              "      <td>1.0</td>\n",
              "      <td>14.0</td>\n",
              "      <td>3.0</td>\n",
              "      <td>4.0</td>\n",
              "      <td>3.230769</td>\n",
              "      <td>1</td>\n",
              "    </tr>\n",
              "    <tr>\n",
              "      <th>2</th>\n",
              "      <td>4.0</td>\n",
              "      <td>22.0</td>\n",
              "      <td>2.5</td>\n",
              "      <td>0.0</td>\n",
              "      <td>1.0</td>\n",
              "      <td>16.0</td>\n",
              "      <td>3.0</td>\n",
              "      <td>5.0</td>\n",
              "      <td>1.400000</td>\n",
              "      <td>1</td>\n",
              "    </tr>\n",
              "    <tr>\n",
              "      <th>3</th>\n",
              "      <td>4.0</td>\n",
              "      <td>37.0</td>\n",
              "      <td>16.5</td>\n",
              "      <td>4.0</td>\n",
              "      <td>3.0</td>\n",
              "      <td>16.0</td>\n",
              "      <td>5.0</td>\n",
              "      <td>5.0</td>\n",
              "      <td>0.727273</td>\n",
              "      <td>1</td>\n",
              "    </tr>\n",
              "    <tr>\n",
              "      <th>4</th>\n",
              "      <td>5.0</td>\n",
              "      <td>27.0</td>\n",
              "      <td>9.0</td>\n",
              "      <td>1.0</td>\n",
              "      <td>1.0</td>\n",
              "      <td>14.0</td>\n",
              "      <td>3.0</td>\n",
              "      <td>4.0</td>\n",
              "      <td>4.666666</td>\n",
              "      <td>1</td>\n",
              "    </tr>\n",
              "  </tbody>\n",
              "</table>\n",
              "</div>"
            ],
            "text/plain": [
              "   rate_marriage   age  yrs_married  ...  occupation_husb   affairs  affair\n",
              "0            3.0  32.0          9.0  ...              5.0  0.111111       1\n",
              "1            3.0  27.0         13.0  ...              4.0  3.230769       1\n",
              "2            4.0  22.0          2.5  ...              5.0  1.400000       1\n",
              "3            4.0  37.0         16.5  ...              5.0  0.727273       1\n",
              "4            5.0  27.0          9.0  ...              4.0  4.666666       1\n",
              "\n",
              "[5 rows x 10 columns]"
            ]
          },
          "metadata": {
            "tags": []
          },
          "execution_count": 6
        }
      ]
    },
    {
      "cell_type": "code",
      "metadata": {
        "colab": {
          "base_uri": "https://localhost:8080/",
          "height": 196
        },
        "id": "6Z-0x0lPzHAr",
        "outputId": "697847d3-e2d3-45b3-cdbd-d092730714d8"
      },
      "source": [
        "# Records identified where there's no affair \r\n",
        "data.loc[data.affairs<=0].head()"
      ],
      "execution_count": 9,
      "outputs": [
        {
          "output_type": "execute_result",
          "data": {
            "text/html": [
              "<div>\n",
              "<style scoped>\n",
              "    .dataframe tbody tr th:only-of-type {\n",
              "        vertical-align: middle;\n",
              "    }\n",
              "\n",
              "    .dataframe tbody tr th {\n",
              "        vertical-align: top;\n",
              "    }\n",
              "\n",
              "    .dataframe thead th {\n",
              "        text-align: right;\n",
              "    }\n",
              "</style>\n",
              "<table border=\"1\" class=\"dataframe\">\n",
              "  <thead>\n",
              "    <tr style=\"text-align: right;\">\n",
              "      <th></th>\n",
              "      <th>rate_marriage</th>\n",
              "      <th>age</th>\n",
              "      <th>yrs_married</th>\n",
              "      <th>children</th>\n",
              "      <th>religious</th>\n",
              "      <th>educ</th>\n",
              "      <th>occupation</th>\n",
              "      <th>occupation_husb</th>\n",
              "      <th>affairs</th>\n",
              "      <th>affair</th>\n",
              "    </tr>\n",
              "  </thead>\n",
              "  <tbody>\n",
              "    <tr>\n",
              "      <th>2053</th>\n",
              "      <td>4.0</td>\n",
              "      <td>32.0</td>\n",
              "      <td>9.0</td>\n",
              "      <td>2.0</td>\n",
              "      <td>3.0</td>\n",
              "      <td>14.0</td>\n",
              "      <td>2.0</td>\n",
              "      <td>4.0</td>\n",
              "      <td>0.0</td>\n",
              "      <td>0</td>\n",
              "    </tr>\n",
              "    <tr>\n",
              "      <th>2054</th>\n",
              "      <td>4.0</td>\n",
              "      <td>27.0</td>\n",
              "      <td>6.0</td>\n",
              "      <td>0.0</td>\n",
              "      <td>2.0</td>\n",
              "      <td>14.0</td>\n",
              "      <td>3.0</td>\n",
              "      <td>4.0</td>\n",
              "      <td>0.0</td>\n",
              "      <td>0</td>\n",
              "    </tr>\n",
              "    <tr>\n",
              "      <th>2055</th>\n",
              "      <td>4.0</td>\n",
              "      <td>22.0</td>\n",
              "      <td>2.5</td>\n",
              "      <td>0.0</td>\n",
              "      <td>2.0</td>\n",
              "      <td>14.0</td>\n",
              "      <td>3.0</td>\n",
              "      <td>2.0</td>\n",
              "      <td>0.0</td>\n",
              "      <td>0</td>\n",
              "    </tr>\n",
              "    <tr>\n",
              "      <th>2056</th>\n",
              "      <td>5.0</td>\n",
              "      <td>42.0</td>\n",
              "      <td>23.0</td>\n",
              "      <td>4.0</td>\n",
              "      <td>3.0</td>\n",
              "      <td>16.0</td>\n",
              "      <td>3.0</td>\n",
              "      <td>5.0</td>\n",
              "      <td>0.0</td>\n",
              "      <td>0</td>\n",
              "    </tr>\n",
              "    <tr>\n",
              "      <th>2057</th>\n",
              "      <td>5.0</td>\n",
              "      <td>27.0</td>\n",
              "      <td>2.5</td>\n",
              "      <td>1.0</td>\n",
              "      <td>3.0</td>\n",
              "      <td>20.0</td>\n",
              "      <td>2.0</td>\n",
              "      <td>2.0</td>\n",
              "      <td>0.0</td>\n",
              "      <td>0</td>\n",
              "    </tr>\n",
              "  </tbody>\n",
              "</table>\n",
              "</div>"
            ],
            "text/plain": [
              "      rate_marriage   age  yrs_married  ...  occupation_husb  affairs  affair\n",
              "2053            4.0  32.0          9.0  ...              4.0      0.0       0\n",
              "2054            4.0  27.0          6.0  ...              4.0      0.0       0\n",
              "2055            4.0  22.0          2.5  ...              2.0      0.0       0\n",
              "2056            5.0  42.0         23.0  ...              5.0      0.0       0\n",
              "2057            5.0  27.0          2.5  ...              2.0      0.0       0\n",
              "\n",
              "[5 rows x 10 columns]"
            ]
          },
          "metadata": {
            "tags": []
          },
          "execution_count": 9
        }
      ]
    },
    {
      "cell_type": "code",
      "metadata": {
        "colab": {
          "base_uri": "https://localhost:8080/"
        },
        "id": "2vBf8Ojssq-x",
        "outputId": "3eacb619-22b5-4813-f6eb-47913ab35b54"
      },
      "source": [
        "data.info()"
      ],
      "execution_count": 10,
      "outputs": [
        {
          "output_type": "stream",
          "text": [
            "<class 'pandas.core.frame.DataFrame'>\n",
            "RangeIndex: 6366 entries, 0 to 6365\n",
            "Data columns (total 10 columns):\n",
            " #   Column           Non-Null Count  Dtype  \n",
            "---  ------           --------------  -----  \n",
            " 0   rate_marriage    6366 non-null   float64\n",
            " 1   age              6366 non-null   float64\n",
            " 2   yrs_married      6366 non-null   float64\n",
            " 3   children         6366 non-null   float64\n",
            " 4   religious        6366 non-null   float64\n",
            " 5   educ             6366 non-null   float64\n",
            " 6   occupation       6366 non-null   float64\n",
            " 7   occupation_husb  6366 non-null   float64\n",
            " 8   affairs          6366 non-null   float64\n",
            " 9   affair           6366 non-null   int64  \n",
            "dtypes: float64(9), int64(1)\n",
            "memory usage: 497.5 KB\n"
          ],
          "name": "stdout"
        }
      ]
    },
    {
      "cell_type": "code",
      "metadata": {
        "colab": {
          "base_uri": "https://localhost:8080/",
          "height": 306
        },
        "id": "8guN7qe-srB6",
        "outputId": "8dba46d1-6305-4402-fa28-7af420471023"
      },
      "source": [
        "data.describe()"
      ],
      "execution_count": 11,
      "outputs": [
        {
          "output_type": "execute_result",
          "data": {
            "text/html": [
              "<div>\n",
              "<style scoped>\n",
              "    .dataframe tbody tr th:only-of-type {\n",
              "        vertical-align: middle;\n",
              "    }\n",
              "\n",
              "    .dataframe tbody tr th {\n",
              "        vertical-align: top;\n",
              "    }\n",
              "\n",
              "    .dataframe thead th {\n",
              "        text-align: right;\n",
              "    }\n",
              "</style>\n",
              "<table border=\"1\" class=\"dataframe\">\n",
              "  <thead>\n",
              "    <tr style=\"text-align: right;\">\n",
              "      <th></th>\n",
              "      <th>rate_marriage</th>\n",
              "      <th>age</th>\n",
              "      <th>yrs_married</th>\n",
              "      <th>children</th>\n",
              "      <th>religious</th>\n",
              "      <th>educ</th>\n",
              "      <th>occupation</th>\n",
              "      <th>occupation_husb</th>\n",
              "      <th>affairs</th>\n",
              "      <th>affair</th>\n",
              "    </tr>\n",
              "  </thead>\n",
              "  <tbody>\n",
              "    <tr>\n",
              "      <th>count</th>\n",
              "      <td>6366.000000</td>\n",
              "      <td>6366.000000</td>\n",
              "      <td>6366.000000</td>\n",
              "      <td>6366.000000</td>\n",
              "      <td>6366.000000</td>\n",
              "      <td>6366.000000</td>\n",
              "      <td>6366.000000</td>\n",
              "      <td>6366.000000</td>\n",
              "      <td>6366.000000</td>\n",
              "      <td>6366.000000</td>\n",
              "    </tr>\n",
              "    <tr>\n",
              "      <th>mean</th>\n",
              "      <td>4.109645</td>\n",
              "      <td>29.082862</td>\n",
              "      <td>9.009425</td>\n",
              "      <td>1.396874</td>\n",
              "      <td>2.426170</td>\n",
              "      <td>14.209865</td>\n",
              "      <td>3.424128</td>\n",
              "      <td>3.850141</td>\n",
              "      <td>0.705374</td>\n",
              "      <td>0.322495</td>\n",
              "    </tr>\n",
              "    <tr>\n",
              "      <th>std</th>\n",
              "      <td>0.961430</td>\n",
              "      <td>6.847882</td>\n",
              "      <td>7.280120</td>\n",
              "      <td>1.433471</td>\n",
              "      <td>0.878369</td>\n",
              "      <td>2.178003</td>\n",
              "      <td>0.942399</td>\n",
              "      <td>1.346435</td>\n",
              "      <td>2.203374</td>\n",
              "      <td>0.467468</td>\n",
              "    </tr>\n",
              "    <tr>\n",
              "      <th>min</th>\n",
              "      <td>1.000000</td>\n",
              "      <td>17.500000</td>\n",
              "      <td>0.500000</td>\n",
              "      <td>0.000000</td>\n",
              "      <td>1.000000</td>\n",
              "      <td>9.000000</td>\n",
              "      <td>1.000000</td>\n",
              "      <td>1.000000</td>\n",
              "      <td>0.000000</td>\n",
              "      <td>0.000000</td>\n",
              "    </tr>\n",
              "    <tr>\n",
              "      <th>25%</th>\n",
              "      <td>4.000000</td>\n",
              "      <td>22.000000</td>\n",
              "      <td>2.500000</td>\n",
              "      <td>0.000000</td>\n",
              "      <td>2.000000</td>\n",
              "      <td>12.000000</td>\n",
              "      <td>3.000000</td>\n",
              "      <td>3.000000</td>\n",
              "      <td>0.000000</td>\n",
              "      <td>0.000000</td>\n",
              "    </tr>\n",
              "    <tr>\n",
              "      <th>50%</th>\n",
              "      <td>4.000000</td>\n",
              "      <td>27.000000</td>\n",
              "      <td>6.000000</td>\n",
              "      <td>1.000000</td>\n",
              "      <td>2.000000</td>\n",
              "      <td>14.000000</td>\n",
              "      <td>3.000000</td>\n",
              "      <td>4.000000</td>\n",
              "      <td>0.000000</td>\n",
              "      <td>0.000000</td>\n",
              "    </tr>\n",
              "    <tr>\n",
              "      <th>75%</th>\n",
              "      <td>5.000000</td>\n",
              "      <td>32.000000</td>\n",
              "      <td>16.500000</td>\n",
              "      <td>2.000000</td>\n",
              "      <td>3.000000</td>\n",
              "      <td>16.000000</td>\n",
              "      <td>4.000000</td>\n",
              "      <td>5.000000</td>\n",
              "      <td>0.484848</td>\n",
              "      <td>1.000000</td>\n",
              "    </tr>\n",
              "    <tr>\n",
              "      <th>max</th>\n",
              "      <td>5.000000</td>\n",
              "      <td>42.000000</td>\n",
              "      <td>23.000000</td>\n",
              "      <td>5.500000</td>\n",
              "      <td>4.000000</td>\n",
              "      <td>20.000000</td>\n",
              "      <td>6.000000</td>\n",
              "      <td>6.000000</td>\n",
              "      <td>57.599991</td>\n",
              "      <td>1.000000</td>\n",
              "    </tr>\n",
              "  </tbody>\n",
              "</table>\n",
              "</div>"
            ],
            "text/plain": [
              "       rate_marriage          age  ...      affairs       affair\n",
              "count    6366.000000  6366.000000  ...  6366.000000  6366.000000\n",
              "mean        4.109645    29.082862  ...     0.705374     0.322495\n",
              "std         0.961430     6.847882  ...     2.203374     0.467468\n",
              "min         1.000000    17.500000  ...     0.000000     0.000000\n",
              "25%         4.000000    22.000000  ...     0.000000     0.000000\n",
              "50%         4.000000    27.000000  ...     0.000000     0.000000\n",
              "75%         5.000000    32.000000  ...     0.484848     1.000000\n",
              "max         5.000000    42.000000  ...    57.599991     1.000000\n",
              "\n",
              "[8 rows x 10 columns]"
            ]
          },
          "metadata": {
            "tags": []
          },
          "execution_count": 11
        }
      ]
    },
    {
      "cell_type": "markdown",
      "metadata": {
        "id": "Wj0sCqcEzmum"
      },
      "source": [
        "**Data Exploration ( By using Panadas)**"
      ]
    },
    {
      "cell_type": "code",
      "metadata": {
        "colab": {
          "base_uri": "https://localhost:8080/",
          "height": 137
        },
        "id": "dI1mS_g4zjxa",
        "outputId": "86485ac7-61fd-4c0d-ce40-c167d2cf3000"
      },
      "source": [
        "# Average of all features group by affair\r\n",
        "data.groupby('affair').mean()"
      ],
      "execution_count": 14,
      "outputs": [
        {
          "output_type": "execute_result",
          "data": {
            "text/html": [
              "<div>\n",
              "<style scoped>\n",
              "    .dataframe tbody tr th:only-of-type {\n",
              "        vertical-align: middle;\n",
              "    }\n",
              "\n",
              "    .dataframe tbody tr th {\n",
              "        vertical-align: top;\n",
              "    }\n",
              "\n",
              "    .dataframe thead th {\n",
              "        text-align: right;\n",
              "    }\n",
              "</style>\n",
              "<table border=\"1\" class=\"dataframe\">\n",
              "  <thead>\n",
              "    <tr style=\"text-align: right;\">\n",
              "      <th></th>\n",
              "      <th>rate_marriage</th>\n",
              "      <th>age</th>\n",
              "      <th>yrs_married</th>\n",
              "      <th>children</th>\n",
              "      <th>religious</th>\n",
              "      <th>educ</th>\n",
              "      <th>occupation</th>\n",
              "      <th>occupation_husb</th>\n",
              "      <th>affairs</th>\n",
              "    </tr>\n",
              "    <tr>\n",
              "      <th>affair</th>\n",
              "      <th></th>\n",
              "      <th></th>\n",
              "      <th></th>\n",
              "      <th></th>\n",
              "      <th></th>\n",
              "      <th></th>\n",
              "      <th></th>\n",
              "      <th></th>\n",
              "      <th></th>\n",
              "    </tr>\n",
              "  </thead>\n",
              "  <tbody>\n",
              "    <tr>\n",
              "      <th>0</th>\n",
              "      <td>4.329701</td>\n",
              "      <td>28.390679</td>\n",
              "      <td>7.989335</td>\n",
              "      <td>1.238813</td>\n",
              "      <td>2.504521</td>\n",
              "      <td>14.322977</td>\n",
              "      <td>3.405286</td>\n",
              "      <td>3.833758</td>\n",
              "      <td>0.000000</td>\n",
              "    </tr>\n",
              "    <tr>\n",
              "      <th>1</th>\n",
              "      <td>3.647345</td>\n",
              "      <td>30.537019</td>\n",
              "      <td>11.152460</td>\n",
              "      <td>1.728933</td>\n",
              "      <td>2.261568</td>\n",
              "      <td>13.972236</td>\n",
              "      <td>3.463712</td>\n",
              "      <td>3.884559</td>\n",
              "      <td>2.187243</td>\n",
              "    </tr>\n",
              "  </tbody>\n",
              "</table>\n",
              "</div>"
            ],
            "text/plain": [
              "        rate_marriage        age  ...  occupation_husb   affairs\n",
              "affair                            ...                           \n",
              "0            4.329701  28.390679  ...         3.833758  0.000000\n",
              "1            3.647345  30.537019  ...         3.884559  2.187243\n",
              "\n",
              "[2 rows x 9 columns]"
            ]
          },
          "metadata": {
            "tags": []
          },
          "execution_count": 14
        }
      ]
    },
    {
      "cell_type": "code",
      "metadata": {
        "colab": {
          "base_uri": "https://localhost:8080/",
          "height": 226
        },
        "id": "SClo2X1_zj32",
        "outputId": "71d07024-b9d1-4123-ee40-27324b603f99"
      },
      "source": [
        "data.groupby('rate_marriage').mean()"
      ],
      "execution_count": 16,
      "outputs": [
        {
          "output_type": "execute_result",
          "data": {
            "text/html": [
              "<div>\n",
              "<style scoped>\n",
              "    .dataframe tbody tr th:only-of-type {\n",
              "        vertical-align: middle;\n",
              "    }\n",
              "\n",
              "    .dataframe tbody tr th {\n",
              "        vertical-align: top;\n",
              "    }\n",
              "\n",
              "    .dataframe thead th {\n",
              "        text-align: right;\n",
              "    }\n",
              "</style>\n",
              "<table border=\"1\" class=\"dataframe\">\n",
              "  <thead>\n",
              "    <tr style=\"text-align: right;\">\n",
              "      <th></th>\n",
              "      <th>age</th>\n",
              "      <th>yrs_married</th>\n",
              "      <th>children</th>\n",
              "      <th>religious</th>\n",
              "      <th>educ</th>\n",
              "      <th>occupation</th>\n",
              "      <th>occupation_husb</th>\n",
              "      <th>affairs</th>\n",
              "      <th>affair</th>\n",
              "    </tr>\n",
              "    <tr>\n",
              "      <th>rate_marriage</th>\n",
              "      <th></th>\n",
              "      <th></th>\n",
              "      <th></th>\n",
              "      <th></th>\n",
              "      <th></th>\n",
              "      <th></th>\n",
              "      <th></th>\n",
              "      <th></th>\n",
              "      <th></th>\n",
              "    </tr>\n",
              "  </thead>\n",
              "  <tbody>\n",
              "    <tr>\n",
              "      <th>1.0</th>\n",
              "      <td>33.823232</td>\n",
              "      <td>13.914141</td>\n",
              "      <td>2.308081</td>\n",
              "      <td>2.343434</td>\n",
              "      <td>13.848485</td>\n",
              "      <td>3.232323</td>\n",
              "      <td>3.838384</td>\n",
              "      <td>1.201671</td>\n",
              "      <td>0.747475</td>\n",
              "    </tr>\n",
              "    <tr>\n",
              "      <th>2.0</th>\n",
              "      <td>30.471264</td>\n",
              "      <td>10.727011</td>\n",
              "      <td>1.735632</td>\n",
              "      <td>2.330460</td>\n",
              "      <td>13.864943</td>\n",
              "      <td>3.327586</td>\n",
              "      <td>3.764368</td>\n",
              "      <td>1.615745</td>\n",
              "      <td>0.635057</td>\n",
              "    </tr>\n",
              "    <tr>\n",
              "      <th>3.0</th>\n",
              "      <td>30.008056</td>\n",
              "      <td>10.239174</td>\n",
              "      <td>1.638469</td>\n",
              "      <td>2.308157</td>\n",
              "      <td>14.001007</td>\n",
              "      <td>3.402820</td>\n",
              "      <td>3.798590</td>\n",
              "      <td>1.371281</td>\n",
              "      <td>0.550856</td>\n",
              "    </tr>\n",
              "    <tr>\n",
              "      <th>4.0</th>\n",
              "      <td>28.856601</td>\n",
              "      <td>8.816905</td>\n",
              "      <td>1.369536</td>\n",
              "      <td>2.400981</td>\n",
              "      <td>14.144514</td>\n",
              "      <td>3.420161</td>\n",
              "      <td>3.835861</td>\n",
              "      <td>0.674837</td>\n",
              "      <td>0.322926</td>\n",
              "    </tr>\n",
              "    <tr>\n",
              "      <th>5.0</th>\n",
              "      <td>28.574702</td>\n",
              "      <td>8.311662</td>\n",
              "      <td>1.252794</td>\n",
              "      <td>2.506334</td>\n",
              "      <td>14.399776</td>\n",
              "      <td>3.454918</td>\n",
              "      <td>3.892697</td>\n",
              "      <td>0.348174</td>\n",
              "      <td>0.181446</td>\n",
              "    </tr>\n",
              "  </tbody>\n",
              "</table>\n",
              "</div>"
            ],
            "text/plain": [
              "                     age  yrs_married  ...   affairs    affair\n",
              "rate_marriage                          ...                    \n",
              "1.0            33.823232    13.914141  ...  1.201671  0.747475\n",
              "2.0            30.471264    10.727011  ...  1.615745  0.635057\n",
              "3.0            30.008056    10.239174  ...  1.371281  0.550856\n",
              "4.0            28.856601     8.816905  ...  0.674837  0.322926\n",
              "5.0            28.574702     8.311662  ...  0.348174  0.181446\n",
              "\n",
              "[5 rows x 9 columns]"
            ]
          },
          "metadata": {
            "tags": []
          },
          "execution_count": 16
        }
      ]
    },
    {
      "cell_type": "markdown",
      "metadata": {
        "id": "mgwWdpwI0zE1"
      },
      "source": [
        "**Data Visualization**"
      ]
    },
    {
      "cell_type": "code",
      "metadata": {
        "colab": {
          "base_uri": "https://localhost:8080/",
          "height": 312
        },
        "id": "AWLMi8Iczj7h",
        "outputId": "03985af2-c285-4797-9512-6261ec36b45a"
      },
      "source": [
        "# histogram of education\r\n",
        "data.educ.hist()\r\n",
        "plt.title('Education Histogram')\r\n",
        "plt.xlabel('Education Level')\r\n",
        "plt.ylabel('Frequency')"
      ],
      "execution_count": 17,
      "outputs": [
        {
          "output_type": "execute_result",
          "data": {
            "text/plain": [
              "Text(0, 0.5, 'Frequency')"
            ]
          },
          "metadata": {
            "tags": []
          },
          "execution_count": 17
        },
        {
          "output_type": "display_data",
          "data": {
            "image/png": "[encoded data removed]",
            "text/plain": [
              "<Figure size 432x288 with 1 Axes>"
            ]
          },
          "metadata": {
            "tags": [],
            "needs_background": "light"
          }
        }
      ]
    },
    {
      "cell_type": "code",
      "metadata": {
        "colab": {
          "base_uri": "https://localhost:8080/",
          "height": 312
        },
        "id": "maZBvSCkzj-7",
        "outputId": "7e17500a-0c3b-46bd-b4cd-244d1ed5d73d"
      },
      "source": [
        "#histogram marrige rate\r\n",
        "data.rate_marriage.hist()\r\n",
        "plt.title('Histogram of Marriage Rating')\r\n",
        "plt.xlabel('Marriage Rating')\r\n",
        "plt.ylabel('Frequency')"
      ],
      "execution_count": 18,
      "outputs": [
        {
          "output_type": "execute_result",
          "data": {
            "text/plain": [
              "Text(0, 0.5, 'Frequency')"
            ]
          },
          "metadata": {
            "tags": []
          },
          "execution_count": 18
        },
        {
          "output_type": "display_data",
          "data": {
            "image/png": "[encoded data removed]",
            "text/plain": [
              "<Figure size 432x288 with 1 Axes>"
            ]
          },
          "metadata": {
            "tags": [],
            "needs_background": "light"
          }
        }
      ]
    },
    {
      "cell_type": "code",
      "metadata": {
        "colab": {
          "base_uri": "https://localhost:8080/",
          "height": 318
        },
        "id": "8iXChLxWzkCM",
        "outputId": "4bb44502-42f5-4473-e441-ce6e812b7c49"
      },
      "source": [
        "# barplot of marriage rating grouped by affair (True or False)\r\n",
        "pd.crosstab(data.rate_marriage, data.affair.astype(bool)).plot(kind='bar')\r\n",
        "plt.title('Marriage Rating Distribution by Affair Status')\r\n",
        "plt.xlabel('Marriage Rating')\r\n",
        "plt.ylabel('Frequency')"
      ],
      "execution_count": 19,
      "outputs": [
        {
          "output_type": "execute_result",
          "data": {
            "text/plain": [
              "Text(0, 0.5, 'Frequency')"
            ]
          },
          "metadata": {
            "tags": []
          },
          "execution_count": 19
        },
        {
          "output_type": "display_data",
          "data": {
            "image/png": "[encoded data removed]",
            "text/plain": [
              "<Figure size 432x288 with 1 Axes>"
            ]
          },
          "metadata": {
            "tags": [],
            "needs_background": "light"
          }
        }
      ]
    },
    {
      "cell_type": "code",
      "metadata": {
        "colab": {
          "base_uri": "https://localhost:8080/",
          "height": 325
        },
        "id": "YYTd5BEuzkNc",
        "outputId": "ce2ee271-e625-4a5b-9aec-15fac1e36a49"
      },
      "source": [
        "affair_yrs_married = pd.crosstab(data.yrs_married, data.affair.astype(bool))\r\n",
        "affair_yrs_married.div(affair_yrs_married.sum(1).astype(float), axis=0).plot(kind='bar', stacked=True)\r\n",
        "plt.title('Affair Percentage by Years Married')\r\n",
        "plt.xlabel('Years Married')\r\n",
        "plt.ylabel('Percentage')"
      ],
      "execution_count": 21,
      "outputs": [
        {
          "output_type": "execute_result",
          "data": {
            "text/plain": [
              "Text(0, 0.5, 'Percentage')"
            ]
          },
          "metadata": {
            "tags": []
          },
          "execution_count": 21
        },
        {
          "output_type": "display_data",
          "data": {
            "image/png": "[encoded data removed]",
            "text/plain": [
              "<Figure size 432x288 with 1 Axes>"
            ]
          },
          "metadata": {
            "tags": [],
            "needs_background": "light"
          }
        }
      ]
    },
    {
      "cell_type": "markdown",
      "metadata": {
        "id": "0qtby8q94Bap"
      },
      "source": [
        "**Data Preperation**"
      ]
    },
    {
      "cell_type": "markdown",
      "metadata": {
        "id": "cgQY5BRa4ITg"
      },
      "source": [
        "Here we can convert data into dependent and independent variable by using dmatrices . Here afffair column goes to y variable and other goes to x variable."
      ]
    },
    {
      "cell_type": "code",
      "metadata": {
        "id": "0VXLgay8srFc"
      },
      "source": [
        "y, X = dmatrices('affair ~ rate_marriage + age + yrs_married + children + religious + educ + C(occupation) + C(occupation_husb)', data, return_type=\"dataframe\")"
      ],
      "execution_count": 23,
      "outputs": []
    },
    {
      "cell_type": "code",
      "metadata": {
        "colab": {
          "base_uri": "https://localhost:8080/"
        },
        "id": "o6rRUmgT4osd",
        "outputId": "4ecea092-7dc8-489b-ba83-0790c905e1e1"
      },
      "source": [
        "X.columns"
      ],
      "execution_count": 24,
      "outputs": [
        {
          "output_type": "execute_result",
          "data": {
            "text/plain": [
              "Index(['Intercept', 'C(occupation)[T.2.0]', 'C(occupation)[T.3.0]',\n",
              "       'C(occupation)[T.4.0]', 'C(occupation)[T.5.0]', 'C(occupation)[T.6.0]',\n",
              "       'C(occupation_husb)[T.2.0]', 'C(occupation_husb)[T.3.0]',\n",
              "       'C(occupation_husb)[T.4.0]', 'C(occupation_husb)[T.5.0]',\n",
              "       'C(occupation_husb)[T.6.0]', 'rate_marriage', 'age', 'yrs_married',\n",
              "       'children', 'religious', 'educ'],\n",
              "      dtype='object')"
            ]
          },
          "metadata": {
            "tags": []
          },
          "execution_count": 24
        }
      ]
    },
    {
      "cell_type": "code",
      "metadata": {
        "colab": {
          "base_uri": "https://localhost:8080/",
          "height": 216
        },
        "id": "ga_8yZpesrIz",
        "outputId": "d2bcf605-4c9d-4fd3-a8fc-e429b44d403f"
      },
      "source": [
        "#Rename all these columns name\r\n",
        "X = X.rename(columns =\r\n",
        "{'C(occupation)[T.2.0]':'occ_2',\r\n",
        "'C(occupation)[T.3.0]':'occ_3',\r\n",
        "'C(occupation)[T.4.0]':'occ_4',\r\n",
        "'C(occupation)[T.5.0]':'occ_5',\r\n",
        "'C(occupation)[T.6.0]':'occ_6',\r\n",
        "'C(occupation_husb)[T.2.0]':'occ_husb_2',\r\n",
        "'C(occupation_husb)[T.3.0]':'occ_husb_3',\r\n",
        "'C(occupation_husb)[T.4.0]':'occ_husb_4',\r\n",
        "'C(occupation_husb)[T.5.0]':'occ_husb_5',\r\n",
        "'C(occupation_husb)[T.6.0]':'occ_husb_6'})\r\n",
        "X.head()\r\n"
      ],
      "execution_count": 25,
      "outputs": [
        {
          "output_type": "execute_result",
          "data": {
            "text/html": [
              "<div>\n",
              "<style scoped>\n",
              "    .dataframe tbody tr th:only-of-type {\n",
              "        vertical-align: middle;\n",
              "    }\n",
              "\n",
              "    .dataframe tbody tr th {\n",
              "        vertical-align: top;\n",
              "    }\n",
              "\n",
              "    .dataframe thead th {\n",
              "        text-align: right;\n",
              "    }\n",
              "</style>\n",
              "<table border=\"1\" class=\"dataframe\">\n",
              "  <thead>\n",
              "    <tr style=\"text-align: right;\">\n",
              "      <th></th>\n",
              "      <th>Intercept</th>\n",
              "      <th>occ_2</th>\n",
              "      <th>occ_3</th>\n",
              "      <th>occ_4</th>\n",
              "      <th>occ_5</th>\n",
              "      <th>occ_6</th>\n",
              "      <th>occ_husb_2</th>\n",
              "      <th>occ_husb_3</th>\n",
              "      <th>occ_husb_4</th>\n",
              "      <th>occ_husb_5</th>\n",
              "      <th>occ_husb_6</th>\n",
              "      <th>rate_marriage</th>\n",
              "      <th>age</th>\n",
              "      <th>yrs_married</th>\n",
              "      <th>children</th>\n",
              "      <th>religious</th>\n",
              "      <th>educ</th>\n",
              "    </tr>\n",
              "  </thead>\n",
              "  <tbody>\n",
              "    <tr>\n",
              "      <th>0</th>\n",
              "      <td>1.0</td>\n",
              "      <td>1.0</td>\n",
              "      <td>0.0</td>\n",
              "      <td>0.0</td>\n",
              "      <td>0.0</td>\n",
              "      <td>0.0</td>\n",
              "      <td>0.0</td>\n",
              "      <td>0.0</td>\n",
              "      <td>0.0</td>\n",
              "      <td>1.0</td>\n",
              "      <td>0.0</td>\n",
              "      <td>3.0</td>\n",
              "      <td>32.0</td>\n",
              "      <td>9.0</td>\n",
              "      <td>3.0</td>\n",
              "      <td>3.0</td>\n",
              "      <td>17.0</td>\n",
              "    </tr>\n",
              "    <tr>\n",
              "      <th>1</th>\n",
              "      <td>1.0</td>\n",
              "      <td>0.0</td>\n",
              "      <td>1.0</td>\n",
              "      <td>0.0</td>\n",
              "      <td>0.0</td>\n",
              "      <td>0.0</td>\n",
              "      <td>0.0</td>\n",
              "      <td>0.0</td>\n",
              "      <td>1.0</td>\n",
              "      <td>0.0</td>\n",
              "      <td>0.0</td>\n",
              "      <td>3.0</td>\n",
              "      <td>27.0</td>\n",
              "      <td>13.0</td>\n",
              "      <td>3.0</td>\n",
              "      <td>1.0</td>\n",
              "      <td>14.0</td>\n",
              "    </tr>\n",
              "    <tr>\n",
              "      <th>2</th>\n",
              "      <td>1.0</td>\n",
              "      <td>0.0</td>\n",
              "      <td>1.0</td>\n",
              "      <td>0.0</td>\n",
              "      <td>0.0</td>\n",
              "      <td>0.0</td>\n",
              "      <td>0.0</td>\n",
              "      <td>0.0</td>\n",
              "      <td>0.0</td>\n",
              "      <td>1.0</td>\n",
              "      <td>0.0</td>\n",
              "      <td>4.0</td>\n",
              "      <td>22.0</td>\n",
              "      <td>2.5</td>\n",
              "      <td>0.0</td>\n",
              "      <td>1.0</td>\n",
              "      <td>16.0</td>\n",
              "    </tr>\n",
              "    <tr>\n",
              "      <th>3</th>\n",
              "      <td>1.0</td>\n",
              "      <td>0.0</td>\n",
              "      <td>0.0</td>\n",
              "      <td>0.0</td>\n",
              "      <td>1.0</td>\n",
              "      <td>0.0</td>\n",
              "      <td>0.0</td>\n",
              "      <td>0.0</td>\n",
              "      <td>0.0</td>\n",
              "      <td>1.0</td>\n",
              "      <td>0.0</td>\n",
              "      <td>4.0</td>\n",
              "      <td>37.0</td>\n",
              "      <td>16.5</td>\n",
              "      <td>4.0</td>\n",
              "      <td>3.0</td>\n",
              "      <td>16.0</td>\n",
              "    </tr>\n",
              "    <tr>\n",
              "      <th>4</th>\n",
              "      <td>1.0</td>\n",
              "      <td>0.0</td>\n",
              "      <td>1.0</td>\n",
              "      <td>0.0</td>\n",
              "      <td>0.0</td>\n",
              "      <td>0.0</td>\n",
              "      <td>0.0</td>\n",
              "      <td>0.0</td>\n",
              "      <td>1.0</td>\n",
              "      <td>0.0</td>\n",
              "      <td>0.0</td>\n",
              "      <td>5.0</td>\n",
              "      <td>27.0</td>\n",
              "      <td>9.0</td>\n",
              "      <td>1.0</td>\n",
              "      <td>1.0</td>\n",
              "      <td>14.0</td>\n",
              "    </tr>\n",
              "  </tbody>\n",
              "</table>\n",
              "</div>"
            ],
            "text/plain": [
              "   Intercept  occ_2  occ_3  occ_4  ...  yrs_married  children  religious  educ\n",
              "0        1.0    1.0    0.0    0.0  ...          9.0       3.0        3.0  17.0\n",
              "1        1.0    0.0    1.0    0.0  ...         13.0       3.0        1.0  14.0\n",
              "2        1.0    0.0    1.0    0.0  ...          2.5       0.0        1.0  16.0\n",
              "3        1.0    0.0    0.0    0.0  ...         16.5       4.0        3.0  16.0\n",
              "4        1.0    0.0    1.0    0.0  ...          9.0       1.0        1.0  14.0\n",
              "\n",
              "[5 rows x 17 columns]"
            ]
          },
          "metadata": {
            "tags": []
          },
          "execution_count": 25
        }
      ]
    },
    {
      "cell_type": "code",
      "metadata": {
        "id": "grjG3QytsrLh"
      },
      "source": [
        "#We also need to flatten y into a 1-D array, so that scikit-learn will properly understand it as the response variable.\r\n",
        "# flatten y into a 1-D array\r\n",
        "y = np.ravel(y)"
      ],
      "execution_count": 26,
      "outputs": []
    },
    {
      "cell_type": "code",
      "metadata": {
        "id": "KGr9YUOpsrPH",
        "colab": {
          "base_uri": "https://localhost:8080/"
        },
        "outputId": "109975d8-39cd-42ce-8234-a697d049ab8e"
      },
      "source": [
        "X.columns"
      ],
      "execution_count": 27,
      "outputs": [
        {
          "output_type": "execute_result",
          "data": {
            "text/plain": [
              "Index(['Intercept', 'occ_2', 'occ_3', 'occ_4', 'occ_5', 'occ_6', 'occ_husb_2',\n",
              "       'occ_husb_3', 'occ_husb_4', 'occ_husb_5', 'occ_husb_6', 'rate_marriage',\n",
              "       'age', 'yrs_married', 'children', 'religious', 'educ'],\n",
              "      dtype='object')"
            ]
          },
          "metadata": {
            "tags": []
          },
          "execution_count": 27
        }
      ]
    },
    {
      "cell_type": "markdown",
      "metadata": {
        "id": "xH3-yUaLB4dF"
      },
      "source": [
        "**Logistic Regression**"
      ]
    },
    {
      "cell_type": "code",
      "metadata": {
        "id": "sJUIApo4srSO",
        "colab": {
          "base_uri": "https://localhost:8080/"
        },
        "outputId": "e7b69093-48b6-4575-91f7-6996ef165e8e"
      },
      "source": [
        "# instantiate a logistic regression model, and fit with X and y\r\n",
        "model = LogisticRegression()\r\n",
        "model = model.fit(X, y)\r\n",
        "\r\n",
        "# check the accuracy on the training set\r\n",
        "model.score(X, y)"
      ],
      "execution_count": 28,
      "outputs": [
        {
          "output_type": "stream",
          "text": [
            "/usr/local/lib/python3.7/dist-packages/sklearn/linear_model/_logistic.py:940: ConvergenceWarning: lbfgs failed to converge (status=1):\n",
            "STOP: TOTAL NO. of ITERATIONS REACHED LIMIT.\n",
            "\n",
            "Increase the number of iterations (max_iter) or scale the data as shown in:\n",
            "    https://scikit-learn.org/stable/modules/preprocessing.html\n",
            "Please also refer to the documentation for alternative solver options:\n",
            "    https://scikit-learn.org/stable/modules/linear_model.html#logistic-regression\n",
            "  extra_warning_msg=_LOGISTIC_SOLVER_CONVERGENCE_MSG)\n"
          ],
          "name": "stderr"
        },
        {
          "output_type": "execute_result",
          "data": {
            "text/plain": [
              "0.7262016965127238"
            ]
          },
          "metadata": {
            "tags": []
          },
          "execution_count": 28
        }
      ]
    },
    {
      "cell_type": "markdown",
      "metadata": {
        "id": "RLA56HylClse"
      },
      "source": [
        "**Logistic Regression by using  validation Set**"
      ]
    },
    {
      "cell_type": "code",
      "metadata": {
        "colab": {
          "base_uri": "https://localhost:8080/"
        },
        "id": "mDmS6hCdCYnG",
        "outputId": "da80de6b-45ec-4854-c687-50111ab81480"
      },
      "source": [
        "# evaluate the model by splitting into train and test sets\r\n",
        "X_train, X_test, y_train, y_test = train_test_split(X, y, test_size=0.3, random_state=0)\r\n",
        "model2 = LogisticRegression()\r\n",
        "model2.fit(X_train, y_train)"
      ],
      "execution_count": 29,
      "outputs": [
        {
          "output_type": "stream",
          "text": [
            "/usr/local/lib/python3.7/dist-packages/sklearn/linear_model/_logistic.py:940: ConvergenceWarning: lbfgs failed to converge (status=1):\n",
            "STOP: TOTAL NO. of ITERATIONS REACHED LIMIT.\n",
            "\n",
            "Increase the number of iterations (max_iter) or scale the data as shown in:\n",
            "    https://scikit-learn.org/stable/modules/preprocessing.html\n",
            "Please also refer to the documentation for alternative solver options:\n",
            "    https://scikit-learn.org/stable/modules/linear_model.html#logistic-regression\n",
            "  extra_warning_msg=_LOGISTIC_SOLVER_CONVERGENCE_MSG)\n"
          ],
          "name": "stderr"
        },
        {
          "output_type": "execute_result",
          "data": {
            "text/plain": [
              "LogisticRegression(C=1.0, class_weight=None, dual=False, fit_intercept=True,\n",
              "                   intercept_scaling=1, l1_ratio=None, max_iter=100,\n",
              "                   multi_class='auto', n_jobs=None, penalty='l2',\n",
              "                   random_state=None, solver='lbfgs', tol=0.0001, verbose=0,\n",
              "                   warm_start=False)"
            ]
          },
          "metadata": {
            "tags": []
          },
          "execution_count": 29
        }
      ]
    },
    {
      "cell_type": "code",
      "metadata": {
        "colab": {
          "base_uri": "https://localhost:8080/"
        },
        "id": "o4A8_p41CYqG",
        "outputId": "8e3ad59a-ba27-4f66-ead9-ef47bd1e06d5"
      },
      "source": [
        "predicted = model2.predict(X_test)\r\n",
        "predicted"
      ],
      "execution_count": 37,
      "outputs": [
        {
          "output_type": "execute_result",
          "data": {
            "text/plain": [
              "array([1., 0., 0., ..., 0., 0., 0.])"
            ]
          },
          "metadata": {
            "tags": []
          },
          "execution_count": 37
        }
      ]
    },
    {
      "cell_type": "code",
      "metadata": {
        "colab": {
          "base_uri": "https://localhost:8080/"
        },
        "id": "PJd4C9OLCYuP",
        "outputId": "b560324e-fb30-4a68-aafa-ff086d9e7f8d"
      },
      "source": [
        "# generate class probabilities\r\n",
        "probs = model2.predict_proba(X_test)\r\n",
        "probs"
      ],
      "execution_count": 38,
      "outputs": [
        {
          "output_type": "execute_result",
          "data": {
            "text/plain": [
              "array([[0.35451206, 0.64548794],\n",
              "       [0.90731104, 0.09268896],\n",
              "       [0.72638868, 0.27361132],\n",
              "       ...,\n",
              "       [0.56453298, 0.43546702],\n",
              "       [0.81706343, 0.18293657],\n",
              "       [0.73854545, 0.26145455]])"
            ]
          },
          "metadata": {
            "tags": []
          },
          "execution_count": 38
        }
      ]
    },
    {
      "cell_type": "markdown",
      "metadata": {
        "id": "a6dZfClMEsai"
      },
      "source": [
        "As you can see, the classifier is predicting a 1 (having an affair) any time the probability in the second column is greater than 0.5.\r\n",
        "\r\n",
        "Now let's generate some evaluation metrics."
      ]
    },
    {
      "cell_type": "code",
      "metadata": {
        "colab": {
          "base_uri": "https://localhost:8080/"
        },
        "id": "bRLOsL10Et6r",
        "outputId": "f589c8d9-37d7-4b2f-ea8c-6ea9d0315f13"
      },
      "source": [
        "# generate evaluation metrics\r\n",
        "print(accuracy_score(y_test, predicted))\r\n",
        "print(roc_auc_score(y_test, probs[:, 1]))"
      ],
      "execution_count": 42,
      "outputs": [
        {
          "output_type": "stream",
          "text": [
            "0.7298429319371728\n",
            "0.746054283550443\n"
          ],
          "name": "stdout"
        }
      ]
    },
    {
      "cell_type": "code",
      "metadata": {
        "colab": {
          "base_uri": "https://localhost:8080/"
        },
        "id": "eURtAtKOFkFF",
        "outputId": "55045581-feec-432f-d71c-55b9cd32dd89"
      },
      "source": [
        "print(confusion_matrix(y_test, predicted))\r\n",
        "print(classification_report(y_test, predicted))"
      ],
      "execution_count": 44,
      "outputs": [
        {
          "output_type": "stream",
          "text": [
            "[[1170  133]\n",
            " [ 383  224]]\n",
            "              precision    recall  f1-score   support\n",
            "\n",
            "         0.0       0.75      0.90      0.82      1303\n",
            "         1.0       0.63      0.37      0.46       607\n",
            "\n",
            "    accuracy                           0.73      1910\n",
            "   macro avg       0.69      0.63      0.64      1910\n",
            "weighted avg       0.71      0.73      0.71      1910\n",
            "\n"
          ],
          "name": "stdout"
        }
      ]
    },
    {
      "cell_type": "markdown",
      "metadata": {
        "id": "Nt7HtxNFGGpX"
      },
      "source": [
        "**Model Evaluation using Cross Validation**"
      ]
    },
    {
      "cell_type": "code",
      "metadata": {
        "colab": {
          "base_uri": "https://localhost:8080/"
        },
        "id": "MNlOerRJF0Ma",
        "outputId": "d73e2870-1c78-4b8a-f425-665eb9438ac2"
      },
      "source": [
        "# evaluate the model using 10-fold cross-validation\r\n",
        "scores = cross_val_score(LogisticRegression(), X, y, scoring='accuracy', cv=10)\r\n",
        "scores, scores.mean()"
      ],
      "execution_count": 45,
      "outputs": [
        {
          "output_type": "stream",
          "text": [
            "/usr/local/lib/python3.7/dist-packages/sklearn/linear_model/_logistic.py:940: ConvergenceWarning: lbfgs failed to converge (status=1):\n",
            "STOP: TOTAL NO. of ITERATIONS REACHED LIMIT.\n",
            "\n",
            "Increase the number of iterations (max_iter) or scale the data as shown in:\n",
            "    https://scikit-learn.org/stable/modules/preprocessing.html\n",
            "Please also refer to the documentation for alternative solver options:\n",
            "    https://scikit-learn.org/stable/modules/linear_model.html#logistic-regression\n",
            "  extra_warning_msg=_LOGISTIC_SOLVER_CONVERGENCE_MSG)\n",
            "/usr/local/lib/python3.7/dist-packages/sklearn/linear_model/_logistic.py:940: ConvergenceWarning: lbfgs failed to converge (status=1):\n",
            "STOP: TOTAL NO. of ITERATIONS REACHED LIMIT.\n",
            "\n",
            "Increase the number of iterations (max_iter) or scale the data as shown in:\n",
            "    https://scikit-learn.org/stable/modules/preprocessing.html\n",
            "Please also refer to the documentation for alternative solver options:\n",
            "    https://scikit-learn.org/stable/modules/linear_model.html#logistic-regression\n",
            "  extra_warning_msg=_LOGISTIC_SOLVER_CONVERGENCE_MSG)\n",
            "/usr/local/lib/python3.7/dist-packages/sklearn/linear_model/_logistic.py:940: ConvergenceWarning: lbfgs failed to converge (status=1):\n",
            "STOP: TOTAL NO. of ITERATIONS REACHED LIMIT.\n",
            "\n",
            "Increase the number of iterations (max_iter) or scale the data as shown in:\n",
            "    https://scikit-learn.org/stable/modules/preprocessing.html\n",
            "Please also refer to the documentation for alternative solver options:\n",
            "    https://scikit-learn.org/stable/modules/linear_model.html#logistic-regression\n",
            "  extra_warning_msg=_LOGISTIC_SOLVER_CONVERGENCE_MSG)\n",
            "/usr/local/lib/python3.7/dist-packages/sklearn/linear_model/_logistic.py:940: ConvergenceWarning: lbfgs failed to converge (status=1):\n",
            "STOP: TOTAL NO. of ITERATIONS REACHED LIMIT.\n",
            "\n",
            "Increase the number of iterations (max_iter) or scale the data as shown in:\n",
            "    https://scikit-learn.org/stable/modules/preprocessing.html\n",
            "Please also refer to the documentation for alternative solver options:\n",
            "    https://scikit-learn.org/stable/modules/linear_model.html#logistic-regression\n",
            "  extra_warning_msg=_LOGISTIC_SOLVER_CONVERGENCE_MSG)\n",
            "/usr/local/lib/python3.7/dist-packages/sklearn/linear_model/_logistic.py:940: ConvergenceWarning: lbfgs failed to converge (status=1):\n",
            "STOP: TOTAL NO. of ITERATIONS REACHED LIMIT.\n",
            "\n",
            "Increase the number of iterations (max_iter) or scale the data as shown in:\n",
            "    https://scikit-learn.org/stable/modules/preprocessing.html\n",
            "Please also refer to the documentation for alternative solver options:\n",
            "    https://scikit-learn.org/stable/modules/linear_model.html#logistic-regression\n",
            "  extra_warning_msg=_LOGISTIC_SOLVER_CONVERGENCE_MSG)\n",
            "/usr/local/lib/python3.7/dist-packages/sklearn/linear_model/_logistic.py:940: ConvergenceWarning: lbfgs failed to converge (status=1):\n",
            "STOP: TOTAL NO. of ITERATIONS REACHED LIMIT.\n",
            "\n",
            "Increase the number of iterations (max_iter) or scale the data as shown in:\n",
            "    https://scikit-learn.org/stable/modules/preprocessing.html\n",
            "Please also refer to the documentation for alternative solver options:\n",
            "    https://scikit-learn.org/stable/modules/linear_model.html#logistic-regression\n",
            "  extra_warning_msg=_LOGISTIC_SOLVER_CONVERGENCE_MSG)\n",
            "/usr/local/lib/python3.7/dist-packages/sklearn/linear_model/_logistic.py:940: ConvergenceWarning: lbfgs failed to converge (status=1):\n",
            "STOP: TOTAL NO. of ITERATIONS REACHED LIMIT.\n",
            "\n",
            "Increase the number of iterations (max_iter) or scale the data as shown in:\n",
            "    https://scikit-learn.org/stable/modules/preprocessing.html\n",
            "Please also refer to the documentation for alternative solver options:\n",
            "    https://scikit-learn.org/stable/modules/linear_model.html#logistic-regression\n",
            "  extra_warning_msg=_LOGISTIC_SOLVER_CONVERGENCE_MSG)\n",
            "/usr/local/lib/python3.7/dist-packages/sklearn/linear_model/_logistic.py:940: ConvergenceWarning: lbfgs failed to converge (status=1):\n",
            "STOP: TOTAL NO. of ITERATIONS REACHED LIMIT.\n",
            "\n",
            "Increase the number of iterations (max_iter) or scale the data as shown in:\n",
            "    https://scikit-learn.org/stable/modules/preprocessing.html\n",
            "Please also refer to the documentation for alternative solver options:\n",
            "    https://scikit-learn.org/stable/modules/linear_model.html#logistic-regression\n",
            "  extra_warning_msg=_LOGISTIC_SOLVER_CONVERGENCE_MSG)\n",
            "/usr/local/lib/python3.7/dist-packages/sklearn/linear_model/_logistic.py:940: ConvergenceWarning: lbfgs failed to converge (status=1):\n",
            "STOP: TOTAL NO. of ITERATIONS REACHED LIMIT.\n",
            "\n",
            "Increase the number of iterations (max_iter) or scale the data as shown in:\n",
            "    https://scikit-learn.org/stable/modules/preprocessing.html\n",
            "Please also refer to the documentation for alternative solver options:\n",
            "    https://scikit-learn.org/stable/modules/linear_model.html#logistic-regression\n",
            "  extra_warning_msg=_LOGISTIC_SOLVER_CONVERGENCE_MSG)\n",
            "/usr/local/lib/python3.7/dist-packages/sklearn/linear_model/_logistic.py:940: ConvergenceWarning: lbfgs failed to converge (status=1):\n",
            "STOP: TOTAL NO. of ITERATIONS REACHED LIMIT.\n",
            "\n",
            "Increase the number of iterations (max_iter) or scale the data as shown in:\n",
            "    https://scikit-learn.org/stable/modules/preprocessing.html\n",
            "Please also refer to the documentation for alternative solver options:\n",
            "    https://scikit-learn.org/stable/modules/linear_model.html#logistic-regression\n",
            "  extra_warning_msg=_LOGISTIC_SOLVER_CONVERGENCE_MSG)\n"
          ],
          "name": "stderr"
        },
        {
          "output_type": "execute_result",
          "data": {
            "text/plain": [
              "(array([0.72684458, 0.69544741, 0.73783359, 0.70800628, 0.71428571,\n",
              "        0.7299843 , 0.73113208, 0.70597484, 0.75157233, 0.75157233]),\n",
              " 0.7252653456157498)"
            ]
          },
          "metadata": {
            "tags": []
          },
          "execution_count": 45
        }
      ]
    },
    {
      "cell_type": "code",
      "metadata": {
        "colab": {
          "base_uri": "https://localhost:8080/"
        },
        "id": "INrPsjFiF0fQ",
        "outputId": "1b28126c-3aa4-4982-b128-f473cc584833"
      },
      "source": [
        "model2.predict_proba(np.array([[1, 0, 0, 1, 0, 0, 1, 0, 0, 0, 0, 3, 25, 3, 1, 4, 16]]))"
      ],
      "execution_count": 47,
      "outputs": [
        {
          "output_type": "execute_result",
          "data": {
            "text/plain": [
              "array([[0.77550592, 0.22449408]])"
            ]
          },
          "metadata": {
            "tags": []
          },
          "execution_count": 47
        }
      ]
    },
    {
      "cell_type": "markdown",
      "metadata": {
        "id": "7o4ZOlPSG_Nx"
      },
      "source": [
        "**The predicted probability of an affair is 23%.**"
      ]
    }
  ]
}